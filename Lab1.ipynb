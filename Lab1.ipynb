{
  "nbformat": 4,
  "nbformat_minor": 0,
  "metadata": {
    "colab": {
      "name": "Untitled0.ipynb",
      "provenance": [],
      "collapsed_sections": [],
      "authorship_tag": "ABX9TyOtTif45cETd1aJqR0Kwwyu"
    },
    "kernelspec": {
      "display_name": "Python 3",
      "name": "python3"
    }
  },
  "cells": [
    {
      "cell_type": "code",
      "metadata": {
        "id": "kEQz3OyRay2X"
      },
      "source": [
        "import numpy as np              # Массивы (матрицы, векторы, линейная алгебра)\n",
        "import matplotlib.pyplot as plt # Научная графика\n",
        "%matplotlib inline \n",
        "    # Говорим jupyter'у, чтобы весь графический вывод был в браузере, а не в отдельном окне\n",
        "import pandas as pd             # Таблицы и временные ряды (dataframe, series)\n",
        "import seaborn as sns           # Еще больше красивой графики для визуализации данных\n",
        "import sklearn                  # Алгоритмы машинного обучения"
      ],
      "execution_count": 22,
      "outputs": []
    },
    {
      "cell_type": "markdown",
      "metadata": {
        "id": "BTL7GMyEj2YW"
      },
      "source": [
        "**1. Описание данных**\n",
        "\n",
        "Датасет представляет собой совокупность данных по людям, самостоятельно обучающимся программированию в 2016 году. В датасете представлено 15620 записей. Данные были собаны порталом freeCodeCamp.org\n",
        "\n",
        "**Постановка задачи:**\\\n",
        "С помощью методов машинного обучения, научить модель определять шансы человека на успешную самостоятельную переквалификацию в сфере IT:\n",
        "\n",
        "С помощью методов машинного обучения, научить модель определять condition - состояние машины:\n",
        "\n",
        "Состояние\tи описание на русском\\\n",
        "'High' - высокие шансы\\\n",
        "'upper intermediate' - шансы выше среднего\\\n",
        "'intermediate' - средние шансы\\\n",
        "'pre intermediate' - шансы ниже среднего\\\n",
        "'low' - низкие шансы\\\n",
        "\n",
        "\n",
        "\n"
      ]
    },
    {
      "cell_type": "markdown",
      "metadata": {
        "id": "IU3-nbc943mw"
      },
      "source": [
        "**2. Чтение и разбор данных**\n"
      ]
    },
    {
      "cell_type": "code",
      "metadata": {
        "id": "5O-vFjnI5BE1"
      },
      "source": [
        "url = \"https://raw.githubusercontent.com/RadaevValentin/Machine_Learning_course/main/2016-FCC-New-Coders-Survey-Data.csv\"\n",
        "full_dataset = pd.read_csv(url, sep=',',engine = 'python')"
      ],
      "execution_count": 23,
      "outputs": []
    },
    {
      "cell_type": "markdown",
      "metadata": {
        "id": "bktlMEzA8Kmd"
      },
      "source": [
        "\n",
        "\n",
        "Вначале посмотрим на размеры таблицы - количество строк (каждая строка соответствует одному студенту) и количество столбцов (каждый столбец соответствует конкретному признаку):\n"
      ]
    },
    {
      "cell_type": "markdown",
      "metadata": {
        "id": "KCGlmx89N73Q"
      },
      "source": [
        "Размерность датасета:"
      ]
    },
    {
      "cell_type": "code",
      "metadata": {
        "colab": {
          "base_uri": "https://localhost:8080/"
        },
        "id": "hCD5qR-NKu-V",
        "outputId": "b166135d-038f-4ba6-9e8b-76251fabe87c"
      },
      "source": [
        "full_dataset.shape"
      ],
      "execution_count": 24,
      "outputs": [
        {
          "output_type": "execute_result",
          "data": {
            "text/plain": [
              "(15620, 114)"
            ]
          },
          "metadata": {
            "tags": []
          },
          "execution_count": 24
        }
      ]
    },
    {
      "cell_type": "markdown",
      "metadata": {
        "id": "d-eZRnWyXdmg"
      },
      "source": [
        "**Данные и их типы:**\r\n",
        "1. Age\t- возраст студента, количественный\r\n",
        "2. Age range\t- возрастная группа студентов (по декадам), номинальный\r\n",
        "3. AttendedBootcamp\t- факт посещения студентом буткемпа, номинальный\r\n",
        "4. BootcampFinish\t- факт окончания студентом буткемпа, номинальный\r\n",
        "5. BootcampFullJobAfter\t- факт получения стужентом работы после окончания буткемпа, номинальный\r\n",
        "6. BootcampLoanYesNo\t- факт получения студентом займа, для участия в буткемпе, номинальный\r\n",
        "7. BootcampMonthsAgo\t- количество месяцев, прошедших с посещения последнего буткемпа, количественный\r\n",
        "8. Bootcampme\t- имя буткемпа, номинальный\r\n",
        "9. BootcampPostSalary\t- заработная плата, по окончанию буткемпа, количественный\r\n",
        "10. BootcampRecommend\t- факт рекомендации студентом,посещенного буткемпа\r\n",
        "11. ChildrenNumber\t- число детей у студента, количественный\r\n",
        "12. CityPopulation\t- население города, в котором проживает студент, номинальный\r\n",
        "13. CodeEventBootcamp\t- факт посещения буткемпов, номинальный\r\n",
        "14. CodeEventCoffee\t- факт посещения тематических кофе брейков по программированию, номинальный\r\n",
        "15. CodeEventConferences\t- факт посещения конференций по программированию, номинальный\r\n",
        "16. CodeEventDjangoGirls\t- факт посещения мероприятий Django Girls, номинальный\r\n",
        "17. CodeEventGameJam\t- факт посещения мероприятий Game Jam, номинальный\r\n",
        "18. CodeEventGirlDev\t- факт посещения мероприятий Girl Dev, номинальный\r\n",
        "19. CodeEventHackathons\t- факт посещения хакатонов, номинальный\r\n",
        "20. CodeEventMeetup\t- факт посещения митапов, номинальный\r\n",
        "21. CodeEventNodeSchool\t- факт посещения Node School, номинальный\r\n",
        "22. CodeEventNone\t- факт непосещения любых мероприятий по программированию, номинальный\r\n",
        "23. CodeEventOther\t- факт посещения прочих мероприятий по программированию, номинальный\r\n",
        "24. CodeEventRailsBridge\t- факт посещения мероприятий Rails Bridge, номинальный\r\n",
        "25. CodeEventRailsGirls\t- факт посещения мероприятий Rails Girls, номинальный\r\n",
        "26. CodeEventStartUpWknd\t- факт посещения мероприятий Start Up weekend, номинальный\r\n",
        "27. CodeEventWomenCode\t- факт посещения мероприятий Women Code, номинальный\r\n",
        "28. CodeEventWorkshop\t- факт посещения воркшопов по программированию, номинальный\r\n",
        "29. CommuteTime\t- время ответа, номинальный\r\n",
        "30. CountryCitizen\t- гражданство, номинальный\r\n",
        "31. CountryLive\t- страна проживания, номинальный\r\n",
        "32. EmploymentField\t- трудовая сфера, номинальный\r\n",
        "33. EmploymentFieldOther\t- прочая трудовая сфера, номинальный\r\n",
        "34. EmploymentStatus\t- статус найма, номинальный\r\n",
        "35. EmploymentStatusOther\t- прочий статус найма, номинальный\r\n",
        "36. ExpectedEarning\t- ожидаемый заработок, количественный\r\n",
        "37. FinciallySupporting\t- факт наличия финансовой поддержки у студента, номинальный\r\n",
        "38. Gender\t- пол, номинальный\r\n",
        "39. HasChildren\t- факт наличия детей, номинальный\r\n",
        "40. HasDebt\t- факт наличия финансовых задолженностей у студента, номинальный\r\n",
        "41. HasFincialDependents\t- факт наличия финансово зависимых от студента людей, номинальный\r\n",
        "42. HasHighSpdInternet\t- факт наличия у студента высокоскоростного интернета, номинальный\r\n",
        "43. HasHomeMortgage\t- факт наличия у студента ипотеки на жилье, номинальный\r\n",
        "44. HasServedInMilitary\t- факт службы студентом в армии, номинальный\r\n",
        "45. HasStudentDebt\t- факт наличия у студента долгов за образование, номинальный\r\n",
        "46. HomeMortgageOwe\t- величина задолженности по ипотечному кредиту, количественный\r\n",
        "47. HoursLearning\t- количество часов,затрачиваемых на учебу, в неделю, количественный\r\n",
        "48. ID.x\t- уникальный идентификатор студента, номинальный\r\n",
        "49. ID.y\t- уникальный идентификатор студента, номинальный\r\n",
        "50. Income\t- величина дохода студента, количественный\r\n",
        "51. IsEthnicMinority\t- студент является этническим меньшенством, номинальный\r\n",
        "52. IsReceiveDiabilitiesBenefits\t- студент получает пособие по инвалидности, номинальный\r\n",
        "53. IsSoftwareDev\t- студент  является инженером-разработчиком ПО, номинальынй\r\n",
        "54. IsUnderEmployed\t- студент трудоустроен на текущий момент, номинальный\r\n",
        "55. JobApplyWhen\t- срок, в течение которого студент попытается устроиться на работу, номинальный\r\n",
        "56. JobPref\t- предпочтения по работе у студента, номинальный\r\n",
        "57. JobRelocateYesNo\t- студент готов релоцироваться при найме, номинальный\r\n",
        "58. JobRoleInterest\t- интересующая должность, номинальный\r\n",
        "59. JobRoleInterestOther\t- прочие интересующие должности, номинальный\r\n",
        "60. JobWherePref\t- желаемый вид работы, удаленно или из офиса, номинальный\r\n",
        "61. LanguageAtHome\t- родной язык, номинальный\r\n",
        "62. MaritalStatus\t- семейное положение, номинальный\r\n",
        "63. MoneyForLearning\t- обьем имеющихся сбережений на обучение, количественный\r\n",
        "64. MonthsProgramming\t- стаж программирования в месяцах, количественный\r\n",
        "65. NetworkID\t- уникальный идентификатор студента, номинальный\r\n",
        "66. Part1EndTime\t- время регистрации ответа респондента, номинальный\r\n",
        "67. Part1StartTime\t- время регистрации ответа респондента, номинальный\r\n",
        "68. Part2EndTime\t- время регистрации ответа респондента, номинальный\r\n",
        "69. Part2StartTime\t- время регистрации ответа респондента, номинальный\r\n",
        "70. PodcastChangeLog\t- факт прослушивания подкаста Chane Log, номинальный\r\n",
        "71. PodcastCodeNewbie\t- факт прослушивания подкаста Code Newbie, номинальный\r\n",
        "72. PodcastCodingBlocks\t- факт прослушивания подкаста Coding Blocks, номинальный\r\n",
        "73. PodcastDeveloperTea\t- факт прослушивания подкаста Developer Tea, номинальный\r\n",
        "74. PodcastDotNetRocks\t- факт прослушивания подкаста Dot Net Rocks, номинальный\r\n",
        "75. PodcastHanselminutes\t- факт прослушивания подкаста Hansel minutes, номинальный\r\n",
        "76. PodcastJSJabber\t- факт прослушивания подкаста US Jabber, номинальный\r\n",
        "77. PodcastJsAir\t- факт прослушивания подкаста Us Air, номинальный\r\n",
        "78. PodcastNone\t- факт непрослушивания каких-либо тематических подскастов, номинальный\r\n",
        "79. PodcastOther\t- факт прослушивания прочих подкастов, номинальный\r\n",
        "80. PodcastProgrammingThrowDown\t- факт прослушивания подкаста Programming Throw Down, номинальный\r\n",
        "81. PodcastRubyRogues\t- факт прослушивания подкаста Ruby Rogues, номинальный\r\n",
        "82. PodcastSEDaily\t- факт прослушивания подкаста SE Daily, номинальный\r\n",
        "83. PodcastShopTalk\t- факт прослушивания подкаста Shop Talk, номинальный\r\n",
        "84. PodcastTalkPython\t- факт прослушивания подкаста Talk Python, номинальный\r\n",
        "85. PodcastWebAhead\t- факт прослушивания подкаста Web Ahead, номинальный\r\n",
        "86. ResourceBlogs\t- факт пользования ресурсом Blogs, номинальный\r\n",
        "87. ResourceBooks\t- факт пользования ресурсом Books, номинальный\r\n",
        "88. ResourceCodeWars\t- факт пользования ресурсом Code Wars, номинальный\r\n",
        "89. ResourceCodecademy\t- факт пользования ресурсом Codecademy, номинальный\r\n",
        "90. ResourceCoursera\t- факт пользования ресурсом Coursera, номинальный\r\n",
        "91. ResourceDevTips\t- факт пользования ресурсом DevTips, номинальный\r\n",
        "92. ResourceEdX\t- факт пользования ресурсом EdX, номинальный\r\n",
        "93. ResourceEggHead\t- факт пользования ресурсом EggHead, номинальный\r\n",
        "94. ResourceFCC\t- факт пользования ресурсом FCC, номинальный\r\n",
        "95. ResourceGoogle\t- факт пользования ресурсом Google, номинальный\r\n",
        "96. ResourceHackerRank\t- факт пользования ресурсом HackerRank, номинальный\r\n",
        "97. ResourceKhacademy\t- факт пользования ресурсом Khacademy, номинальный\r\n",
        "98. ResourceLynda\t- факт пользования ресурсом Lynda, номинальный\r\n",
        "99. ResourceMDN\t- факт пользования ресурсом MDN, номинальный\r\n",
        "100. ResourceOdinProj\t- факт пользования ресурсом OdinProj, номинальный\r\n",
        "101. ResourceOther\t- факт пользования прочими реусурсами, номинальный\r\n",
        "102. ResourcePluralSight\t- факт пользования ресурсом PluralSight, номинальный\r\n",
        "103. ResourceReddit\t- факт пользования ресурсом Reddit, номинальный\r\n",
        "104. ResourceSkillCrush\t- факт пользования ресурсом SkillCrush, номинальный\r\n",
        "105. ResourceSoloLearn\t- факт пользования ресурсом SoloLearn, номинальный\r\n",
        "106. ResourceStackOverflow\t- факт пользования ресурсом StackOverflow, номинальный\r\n",
        "107. ResourceTreehouse\t- факт пользования ресурсом Treehouse, номинальный\r\n",
        "108. ResourceUdacity\t- факт пользования ресурсом Udacity, номинальный\r\n",
        "109. ResourceUdemy\t- факт пользования ресурсом Udemy, номинальный\r\n",
        "110. ResourceW3Schools\t- факт пользования ресурсом W3Schools, номинальный\r\n",
        "111. ResourceYouTube\t- факт пользования ресурсом Blogs, номинальный\r\n",
        "112. SchoolDegree\t- уровень образования, номинальный\r\n",
        "113. SchoolMajor\t- направление обучения, номинальный\r\n",
        "114. StudentDebtOwe\t- задолженность студента за учебу, количественный\r\n"
      ]
    },
    {
      "cell_type": "code",
      "metadata": {
        "colab": {
          "base_uri": "https://localhost:8080/"
        },
        "id": "fTN0sIe7Ewd_",
        "outputId": "04a62303-2bdd-4906-837b-09fb0d447ef4"
      },
      "source": [
        "full_dataset.columns"
      ],
      "execution_count": 26,
      "outputs": [
        {
          "output_type": "execute_result",
          "data": {
            "text/plain": [
              "Index(['Age', 'Age range', 'AttendedBootcamp', 'BootcampFinish',\n",
              "       'BootcampFullJobAfter', 'BootcampLoanYesNo', 'BootcampMonthsAgo',\n",
              "       'Bootcampme', 'BootcampPostSalary', 'BootcampRecommend',\n",
              "       ...\n",
              "       'ResourceSoloLearn', 'ResourceStackOverflow', 'ResourceTreehouse',\n",
              "       'ResourceUdacity', 'ResourceUdemy', 'ResourceW3Schools',\n",
              "       'ResourceYouTube', 'SchoolDegree', 'SchoolMajor', 'StudentDebtOwe'],\n",
              "      dtype='object', length=114)"
            ]
          },
          "metadata": {
            "tags": []
          },
          "execution_count": 26
        }
      ]
    },
    {
      "cell_type": "markdown",
      "metadata": {
        "id": "CM8p2_UrGjdi"
      },
      "source": [
        "**Анализ данных**:\\\r\n",
        "Проанализируем данные в датасете при помощи метода describe()\r\n"
      ]
    },
    {
      "cell_type": "code",
      "metadata": {
        "colab": {
          "base_uri": "https://localhost:8080/",
          "height": 460
        },
        "id": "3yHFRulV6szR",
        "outputId": "eeab37df-5c4c-4a22-e4d5-66afb22fc2a1"
      },
      "source": [
        "full_dataset.describe(include=\"all\")"
      ],
      "execution_count": 27,
      "outputs": [
        {
          "output_type": "execute_result",
          "data": {
            "text/html": [
              "<div>\n",
              "<style scoped>\n",
              "    .dataframe tbody tr th:only-of-type {\n",
              "        vertical-align: middle;\n",
              "    }\n",
              "\n",
              "    .dataframe tbody tr th {\n",
              "        vertical-align: top;\n",
              "    }\n",
              "\n",
              "    .dataframe thead th {\n",
              "        text-align: right;\n",
              "    }\n",
              "</style>\n",
              "<table border=\"1\" class=\"dataframe\">\n",
              "  <thead>\n",
              "    <tr style=\"text-align: right;\">\n",
              "      <th></th>\n",
              "      <th>Age</th>\n",
              "      <th>Age range</th>\n",
              "      <th>AttendedBootcamp</th>\n",
              "      <th>BootcampFinish</th>\n",
              "      <th>BootcampFullJobAfter</th>\n",
              "      <th>BootcampLoanYesNo</th>\n",
              "      <th>BootcampMonthsAgo</th>\n",
              "      <th>Bootcampme</th>\n",
              "      <th>BootcampPostSalary</th>\n",
              "      <th>BootcampRecommend</th>\n",
              "      <th>ChildrenNumber</th>\n",
              "      <th>CityPopulation</th>\n",
              "      <th>CodeEventBootcamp</th>\n",
              "      <th>CodeEventCoffee</th>\n",
              "      <th>CodeEventConferences</th>\n",
              "      <th>CodeEventDjangoGirls</th>\n",
              "      <th>CodeEventGameJam</th>\n",
              "      <th>CodeEventGirlDev</th>\n",
              "      <th>CodeEventHackathons</th>\n",
              "      <th>CodeEventMeetup</th>\n",
              "      <th>CodeEventNodeSchool</th>\n",
              "      <th>CodeEventNone</th>\n",
              "      <th>CodeEventOther</th>\n",
              "      <th>CodeEventRailsBridge</th>\n",
              "      <th>CodeEventRailsGirls</th>\n",
              "      <th>CodeEventStartUpWknd</th>\n",
              "      <th>CodeEventWomenCode</th>\n",
              "      <th>CodeEventWorkshop</th>\n",
              "      <th>CommuteTime</th>\n",
              "      <th>CountryCitizen</th>\n",
              "      <th>CountryLive</th>\n",
              "      <th>EmploymentField</th>\n",
              "      <th>EmploymentFieldOther</th>\n",
              "      <th>EmploymentStatus</th>\n",
              "      <th>EmploymentStatusOther</th>\n",
              "      <th>ExpectedEarning</th>\n",
              "      <th>FinciallySupporting</th>\n",
              "      <th>Gender</th>\n",
              "      <th>HasChildren</th>\n",
              "      <th>HasDebt</th>\n",
              "      <th>...</th>\n",
              "      <th>PodcastHanselminutes</th>\n",
              "      <th>PodcastJSJabber</th>\n",
              "      <th>PodcastJsAir</th>\n",
              "      <th>PodcastNone</th>\n",
              "      <th>PodcastOther</th>\n",
              "      <th>PodcastProgrammingThrowDown</th>\n",
              "      <th>PodcastRubyRogues</th>\n",
              "      <th>PodcastSEDaily</th>\n",
              "      <th>PodcastShopTalk</th>\n",
              "      <th>PodcastTalkPython</th>\n",
              "      <th>PodcastWebAhead</th>\n",
              "      <th>ResourceBlogs</th>\n",
              "      <th>ResourceBooks</th>\n",
              "      <th>ResourceCodeWars</th>\n",
              "      <th>ResourceCodecademy</th>\n",
              "      <th>ResourceCoursera</th>\n",
              "      <th>ResourceDevTips</th>\n",
              "      <th>ResourceEdX</th>\n",
              "      <th>ResourceEggHead</th>\n",
              "      <th>ResourceFCC</th>\n",
              "      <th>ResourceGoogle</th>\n",
              "      <th>ResourceHackerRank</th>\n",
              "      <th>ResourceKhacademy</th>\n",
              "      <th>ResourceLynda</th>\n",
              "      <th>ResourceMDN</th>\n",
              "      <th>ResourceOdinProj</th>\n",
              "      <th>ResourceOther</th>\n",
              "      <th>ResourcePluralSight</th>\n",
              "      <th>ResourceReddit</th>\n",
              "      <th>ResourceSkillCrush</th>\n",
              "      <th>ResourceSoloLearn</th>\n",
              "      <th>ResourceStackOverflow</th>\n",
              "      <th>ResourceTreehouse</th>\n",
              "      <th>ResourceUdacity</th>\n",
              "      <th>ResourceUdemy</th>\n",
              "      <th>ResourceW3Schools</th>\n",
              "      <th>ResourceYouTube</th>\n",
              "      <th>SchoolDegree</th>\n",
              "      <th>SchoolMajor</th>\n",
              "      <th>StudentDebtOwe</th>\n",
              "    </tr>\n",
              "  </thead>\n",
              "  <tbody>\n",
              "    <tr>\n",
              "      <th>count</th>\n",
              "      <td>13613.000000</td>\n",
              "      <td>13613</td>\n",
              "      <td>15380.000000</td>\n",
              "      <td>933.000000</td>\n",
              "      <td>635.000000</td>\n",
              "      <td>934.000000</td>\n",
              "      <td>631.000000</td>\n",
              "      <td>895</td>\n",
              "      <td>330.000000</td>\n",
              "      <td>937.000000</td>\n",
              "      <td>2554.000000</td>\n",
              "      <td>13630</td>\n",
              "      <td>42.0</td>\n",
              "      <td>2077.0</td>\n",
              "      <td>2898.0</td>\n",
              "      <td>18.0</td>\n",
              "      <td>22.0</td>\n",
              "      <td>558.0</td>\n",
              "      <td>2422.0</td>\n",
              "      <td>313.0</td>\n",
              "      <td>480.0</td>\n",
              "      <td>8900.0</td>\n",
              "      <td>920</td>\n",
              "      <td>255.0</td>\n",
              "      <td>14.0</td>\n",
              "      <td>743.0</td>\n",
              "      <td>711.0</td>\n",
              "      <td>23.0</td>\n",
              "      <td>8339.000000</td>\n",
              "      <td>13654</td>\n",
              "      <td>13610</td>\n",
              "      <td>7608</td>\n",
              "      <td>1055</td>\n",
              "      <td>12904</td>\n",
              "      <td>681</td>\n",
              "      <td>6077.000000</td>\n",
              "      <td>3996.000000</td>\n",
              "      <td>13746</td>\n",
              "      <td>4012.000000</td>\n",
              "      <td>13610.000000</td>\n",
              "      <td>...</td>\n",
              "      <td>19.0</td>\n",
              "      <td>1356.0</td>\n",
              "      <td>29.0</td>\n",
              "      <td>11040.0</td>\n",
              "      <td>851</td>\n",
              "      <td>34.0</td>\n",
              "      <td>79.0</td>\n",
              "      <td>775.0</td>\n",
              "      <td>83.0</td>\n",
              "      <td>41.0</td>\n",
              "      <td>15.0</td>\n",
              "      <td>30.0</td>\n",
              "      <td>144.0</td>\n",
              "      <td>1563.0</td>\n",
              "      <td>9586.0</td>\n",
              "      <td>4844.0</td>\n",
              "      <td>968.0</td>\n",
              "      <td>3472.0</td>\n",
              "      <td>29.0</td>\n",
              "      <td>10937.0</td>\n",
              "      <td>55.0</td>\n",
              "      <td>30.0</td>\n",
              "      <td>3746.0</td>\n",
              "      <td>150.0</td>\n",
              "      <td>26.0</td>\n",
              "      <td>1687.0</td>\n",
              "      <td>2093</td>\n",
              "      <td>3565.0</td>\n",
              "      <td>29.0</td>\n",
              "      <td>36.0</td>\n",
              "      <td>30.0</td>\n",
              "      <td>191.0</td>\n",
              "      <td>422.0</td>\n",
              "      <td>3306.0</td>\n",
              "      <td>4130.0</td>\n",
              "      <td>121.0</td>\n",
              "      <td>121.0</td>\n",
              "      <td>13679</td>\n",
              "      <td>8450</td>\n",
              "      <td>3514.000000</td>\n",
              "    </tr>\n",
              "    <tr>\n",
              "      <th>unique</th>\n",
              "      <td>NaN</td>\n",
              "      <td>8</td>\n",
              "      <td>NaN</td>\n",
              "      <td>NaN</td>\n",
              "      <td>NaN</td>\n",
              "      <td>NaN</td>\n",
              "      <td>NaN</td>\n",
              "      <td>128</td>\n",
              "      <td>NaN</td>\n",
              "      <td>NaN</td>\n",
              "      <td>NaN</td>\n",
              "      <td>3</td>\n",
              "      <td>NaN</td>\n",
              "      <td>NaN</td>\n",
              "      <td>NaN</td>\n",
              "      <td>NaN</td>\n",
              "      <td>NaN</td>\n",
              "      <td>NaN</td>\n",
              "      <td>NaN</td>\n",
              "      <td>NaN</td>\n",
              "      <td>NaN</td>\n",
              "      <td>NaN</td>\n",
              "      <td>611</td>\n",
              "      <td>NaN</td>\n",
              "      <td>NaN</td>\n",
              "      <td>NaN</td>\n",
              "      <td>NaN</td>\n",
              "      <td>NaN</td>\n",
              "      <td>NaN</td>\n",
              "      <td>166</td>\n",
              "      <td>156</td>\n",
              "      <td>15</td>\n",
              "      <td>708</td>\n",
              "      <td>10</td>\n",
              "      <td>293</td>\n",
              "      <td>NaN</td>\n",
              "      <td>NaN</td>\n",
              "      <td>5</td>\n",
              "      <td>NaN</td>\n",
              "      <td>NaN</td>\n",
              "      <td>...</td>\n",
              "      <td>NaN</td>\n",
              "      <td>NaN</td>\n",
              "      <td>NaN</td>\n",
              "      <td>NaN</td>\n",
              "      <td>584</td>\n",
              "      <td>NaN</td>\n",
              "      <td>NaN</td>\n",
              "      <td>NaN</td>\n",
              "      <td>NaN</td>\n",
              "      <td>NaN</td>\n",
              "      <td>NaN</td>\n",
              "      <td>NaN</td>\n",
              "      <td>NaN</td>\n",
              "      <td>NaN</td>\n",
              "      <td>NaN</td>\n",
              "      <td>NaN</td>\n",
              "      <td>NaN</td>\n",
              "      <td>NaN</td>\n",
              "      <td>NaN</td>\n",
              "      <td>NaN</td>\n",
              "      <td>NaN</td>\n",
              "      <td>NaN</td>\n",
              "      <td>NaN</td>\n",
              "      <td>NaN</td>\n",
              "      <td>NaN</td>\n",
              "      <td>NaN</td>\n",
              "      <td>983</td>\n",
              "      <td>NaN</td>\n",
              "      <td>NaN</td>\n",
              "      <td>NaN</td>\n",
              "      <td>NaN</td>\n",
              "      <td>NaN</td>\n",
              "      <td>NaN</td>\n",
              "      <td>NaN</td>\n",
              "      <td>NaN</td>\n",
              "      <td>NaN</td>\n",
              "      <td>NaN</td>\n",
              "      <td>10</td>\n",
              "      <td>426</td>\n",
              "      <td>NaN</td>\n",
              "    </tr>\n",
              "    <tr>\n",
              "      <th>top</th>\n",
              "      <td>NaN</td>\n",
              "      <td>20-29</td>\n",
              "      <td>NaN</td>\n",
              "      <td>NaN</td>\n",
              "      <td>NaN</td>\n",
              "      <td>NaN</td>\n",
              "      <td>NaN</td>\n",
              "      <td>General Assembly</td>\n",
              "      <td>NaN</td>\n",
              "      <td>NaN</td>\n",
              "      <td>NaN</td>\n",
              "      <td>more than 1 million</td>\n",
              "      <td>NaN</td>\n",
              "      <td>NaN</td>\n",
              "      <td>NaN</td>\n",
              "      <td>NaN</td>\n",
              "      <td>NaN</td>\n",
              "      <td>NaN</td>\n",
              "      <td>NaN</td>\n",
              "      <td>NaN</td>\n",
              "      <td>NaN</td>\n",
              "      <td>NaN</td>\n",
              "      <td>Meetups</td>\n",
              "      <td>NaN</td>\n",
              "      <td>NaN</td>\n",
              "      <td>NaN</td>\n",
              "      <td>NaN</td>\n",
              "      <td>NaN</td>\n",
              "      <td>NaN</td>\n",
              "      <td>United States of America</td>\n",
              "      <td>United States of America</td>\n",
              "      <td>software development and IT</td>\n",
              "      <td>Marketing</td>\n",
              "      <td>Employed for wages</td>\n",
              "      <td>Student</td>\n",
              "      <td>NaN</td>\n",
              "      <td>NaN</td>\n",
              "      <td>male</td>\n",
              "      <td>NaN</td>\n",
              "      <td>NaN</td>\n",
              "      <td>...</td>\n",
              "      <td>NaN</td>\n",
              "      <td>NaN</td>\n",
              "      <td>NaN</td>\n",
              "      <td>NaN</td>\n",
              "      <td>Ruby Rogues</td>\n",
              "      <td>NaN</td>\n",
              "      <td>NaN</td>\n",
              "      <td>NaN</td>\n",
              "      <td>NaN</td>\n",
              "      <td>NaN</td>\n",
              "      <td>NaN</td>\n",
              "      <td>NaN</td>\n",
              "      <td>NaN</td>\n",
              "      <td>NaN</td>\n",
              "      <td>NaN</td>\n",
              "      <td>NaN</td>\n",
              "      <td>NaN</td>\n",
              "      <td>NaN</td>\n",
              "      <td>NaN</td>\n",
              "      <td>NaN</td>\n",
              "      <td>NaN</td>\n",
              "      <td>NaN</td>\n",
              "      <td>NaN</td>\n",
              "      <td>NaN</td>\n",
              "      <td>NaN</td>\n",
              "      <td>NaN</td>\n",
              "      <td>Treehouse</td>\n",
              "      <td>NaN</td>\n",
              "      <td>NaN</td>\n",
              "      <td>NaN</td>\n",
              "      <td>NaN</td>\n",
              "      <td>NaN</td>\n",
              "      <td>NaN</td>\n",
              "      <td>NaN</td>\n",
              "      <td>NaN</td>\n",
              "      <td>NaN</td>\n",
              "      <td>NaN</td>\n",
              "      <td>bachelor's degree</td>\n",
              "      <td>Computer Science</td>\n",
              "      <td>NaN</td>\n",
              "    </tr>\n",
              "    <tr>\n",
              "      <th>freq</th>\n",
              "      <td>NaN</td>\n",
              "      <td>6976</td>\n",
              "      <td>NaN</td>\n",
              "      <td>NaN</td>\n",
              "      <td>NaN</td>\n",
              "      <td>NaN</td>\n",
              "      <td>NaN</td>\n",
              "      <td>90</td>\n",
              "      <td>NaN</td>\n",
              "      <td>NaN</td>\n",
              "      <td>NaN</td>\n",
              "      <td>5558</td>\n",
              "      <td>NaN</td>\n",
              "      <td>NaN</td>\n",
              "      <td>NaN</td>\n",
              "      <td>NaN</td>\n",
              "      <td>NaN</td>\n",
              "      <td>NaN</td>\n",
              "      <td>NaN</td>\n",
              "      <td>NaN</td>\n",
              "      <td>NaN</td>\n",
              "      <td>NaN</td>\n",
              "      <td>113</td>\n",
              "      <td>NaN</td>\n",
              "      <td>NaN</td>\n",
              "      <td>NaN</td>\n",
              "      <td>NaN</td>\n",
              "      <td>NaN</td>\n",
              "      <td>NaN</td>\n",
              "      <td>5976</td>\n",
              "      <td>6265</td>\n",
              "      <td>4349</td>\n",
              "      <td>24</td>\n",
              "      <td>7201</td>\n",
              "      <td>224</td>\n",
              "      <td>NaN</td>\n",
              "      <td>NaN</td>\n",
              "      <td>10766</td>\n",
              "      <td>NaN</td>\n",
              "      <td>NaN</td>\n",
              "      <td>...</td>\n",
              "      <td>NaN</td>\n",
              "      <td>NaN</td>\n",
              "      <td>NaN</td>\n",
              "      <td>NaN</td>\n",
              "      <td>40</td>\n",
              "      <td>NaN</td>\n",
              "      <td>NaN</td>\n",
              "      <td>NaN</td>\n",
              "      <td>NaN</td>\n",
              "      <td>NaN</td>\n",
              "      <td>NaN</td>\n",
              "      <td>NaN</td>\n",
              "      <td>NaN</td>\n",
              "      <td>NaN</td>\n",
              "      <td>NaN</td>\n",
              "      <td>NaN</td>\n",
              "      <td>NaN</td>\n",
              "      <td>NaN</td>\n",
              "      <td>NaN</td>\n",
              "      <td>NaN</td>\n",
              "      <td>NaN</td>\n",
              "      <td>NaN</td>\n",
              "      <td>NaN</td>\n",
              "      <td>NaN</td>\n",
              "      <td>NaN</td>\n",
              "      <td>NaN</td>\n",
              "      <td>195</td>\n",
              "      <td>NaN</td>\n",
              "      <td>NaN</td>\n",
              "      <td>NaN</td>\n",
              "      <td>NaN</td>\n",
              "      <td>NaN</td>\n",
              "      <td>NaN</td>\n",
              "      <td>NaN</td>\n",
              "      <td>NaN</td>\n",
              "      <td>NaN</td>\n",
              "      <td>NaN</td>\n",
              "      <td>5644</td>\n",
              "      <td>1387</td>\n",
              "      <td>NaN</td>\n",
              "    </tr>\n",
              "    <tr>\n",
              "      <th>mean</th>\n",
              "      <td>29.175421</td>\n",
              "      <td>NaN</td>\n",
              "      <td>0.061964</td>\n",
              "      <td>0.689175</td>\n",
              "      <td>0.584252</td>\n",
              "      <td>0.332976</td>\n",
              "      <td>9.055468</td>\n",
              "      <td>NaN</td>\n",
              "      <td>63740.506061</td>\n",
              "      <td>0.785486</td>\n",
              "      <td>1.896241</td>\n",
              "      <td>NaN</td>\n",
              "      <td>1.0</td>\n",
              "      <td>1.0</td>\n",
              "      <td>1.0</td>\n",
              "      <td>1.0</td>\n",
              "      <td>1.0</td>\n",
              "      <td>1.0</td>\n",
              "      <td>1.0</td>\n",
              "      <td>1.0</td>\n",
              "      <td>1.0</td>\n",
              "      <td>1.0</td>\n",
              "      <td>NaN</td>\n",
              "      <td>1.0</td>\n",
              "      <td>1.0</td>\n",
              "      <td>1.0</td>\n",
              "      <td>1.0</td>\n",
              "      <td>1.0</td>\n",
              "      <td>55.304473</td>\n",
              "      <td>NaN</td>\n",
              "      <td>NaN</td>\n",
              "      <td>NaN</td>\n",
              "      <td>NaN</td>\n",
              "      <td>NaN</td>\n",
              "      <td>NaN</td>\n",
              "      <td>53717.586967</td>\n",
              "      <td>0.196697</td>\n",
              "      <td>NaN</td>\n",
              "      <td>0.642822</td>\n",
              "      <td>0.470683</td>\n",
              "      <td>...</td>\n",
              "      <td>1.0</td>\n",
              "      <td>1.0</td>\n",
              "      <td>1.0</td>\n",
              "      <td>1.0</td>\n",
              "      <td>NaN</td>\n",
              "      <td>1.0</td>\n",
              "      <td>1.0</td>\n",
              "      <td>1.0</td>\n",
              "      <td>1.0</td>\n",
              "      <td>1.0</td>\n",
              "      <td>1.0</td>\n",
              "      <td>1.0</td>\n",
              "      <td>1.0</td>\n",
              "      <td>1.0</td>\n",
              "      <td>1.0</td>\n",
              "      <td>1.0</td>\n",
              "      <td>1.0</td>\n",
              "      <td>1.0</td>\n",
              "      <td>1.0</td>\n",
              "      <td>1.0</td>\n",
              "      <td>1.0</td>\n",
              "      <td>1.0</td>\n",
              "      <td>1.0</td>\n",
              "      <td>1.0</td>\n",
              "      <td>1.0</td>\n",
              "      <td>1.0</td>\n",
              "      <td>NaN</td>\n",
              "      <td>1.0</td>\n",
              "      <td>1.0</td>\n",
              "      <td>1.0</td>\n",
              "      <td>1.0</td>\n",
              "      <td>1.0</td>\n",
              "      <td>1.0</td>\n",
              "      <td>1.0</td>\n",
              "      <td>1.0</td>\n",
              "      <td>1.0</td>\n",
              "      <td>1.0</td>\n",
              "      <td>NaN</td>\n",
              "      <td>NaN</td>\n",
              "      <td>34556.143711</td>\n",
              "    </tr>\n",
              "    <tr>\n",
              "      <th>std</th>\n",
              "      <td>9.017716</td>\n",
              "      <td>NaN</td>\n",
              "      <td>0.241097</td>\n",
              "      <td>0.463080</td>\n",
              "      <td>0.493239</td>\n",
              "      <td>0.471531</td>\n",
              "      <td>12.968035</td>\n",
              "      <td>NaN</td>\n",
              "      <td>26347.200265</td>\n",
              "      <td>0.410704</td>\n",
              "      <td>1.115975</td>\n",
              "      <td>NaN</td>\n",
              "      <td>0.0</td>\n",
              "      <td>0.0</td>\n",
              "      <td>0.0</td>\n",
              "      <td>0.0</td>\n",
              "      <td>0.0</td>\n",
              "      <td>0.0</td>\n",
              "      <td>0.0</td>\n",
              "      <td>0.0</td>\n",
              "      <td>0.0</td>\n",
              "      <td>0.0</td>\n",
              "      <td>NaN</td>\n",
              "      <td>0.0</td>\n",
              "      <td>0.0</td>\n",
              "      <td>0.0</td>\n",
              "      <td>0.0</td>\n",
              "      <td>0.0</td>\n",
              "      <td>69.442833</td>\n",
              "      <td>NaN</td>\n",
              "      <td>NaN</td>\n",
              "      <td>NaN</td>\n",
              "      <td>NaN</td>\n",
              "      <td>NaN</td>\n",
              "      <td>NaN</td>\n",
              "      <td>30078.511957</td>\n",
              "      <td>0.397551</td>\n",
              "      <td>NaN</td>\n",
              "      <td>0.479228</td>\n",
              "      <td>0.499158</td>\n",
              "      <td>...</td>\n",
              "      <td>0.0</td>\n",
              "      <td>0.0</td>\n",
              "      <td>0.0</td>\n",
              "      <td>0.0</td>\n",
              "      <td>NaN</td>\n",
              "      <td>0.0</td>\n",
              "      <td>0.0</td>\n",
              "      <td>0.0</td>\n",
              "      <td>0.0</td>\n",
              "      <td>0.0</td>\n",
              "      <td>0.0</td>\n",
              "      <td>0.0</td>\n",
              "      <td>0.0</td>\n",
              "      <td>0.0</td>\n",
              "      <td>0.0</td>\n",
              "      <td>0.0</td>\n",
              "      <td>0.0</td>\n",
              "      <td>0.0</td>\n",
              "      <td>0.0</td>\n",
              "      <td>0.0</td>\n",
              "      <td>0.0</td>\n",
              "      <td>0.0</td>\n",
              "      <td>0.0</td>\n",
              "      <td>0.0</td>\n",
              "      <td>0.0</td>\n",
              "      <td>0.0</td>\n",
              "      <td>NaN</td>\n",
              "      <td>0.0</td>\n",
              "      <td>0.0</td>\n",
              "      <td>0.0</td>\n",
              "      <td>0.0</td>\n",
              "      <td>0.0</td>\n",
              "      <td>0.0</td>\n",
              "      <td>0.0</td>\n",
              "      <td>0.0</td>\n",
              "      <td>0.0</td>\n",
              "      <td>0.0</td>\n",
              "      <td>NaN</td>\n",
              "      <td>NaN</td>\n",
              "      <td>54423.139781</td>\n",
              "    </tr>\n",
              "    <tr>\n",
              "      <th>min</th>\n",
              "      <td>10.000000</td>\n",
              "      <td>NaN</td>\n",
              "      <td>0.000000</td>\n",
              "      <td>0.000000</td>\n",
              "      <td>0.000000</td>\n",
              "      <td>0.000000</td>\n",
              "      <td>0.000000</td>\n",
              "      <td>NaN</td>\n",
              "      <td>6000.000000</td>\n",
              "      <td>0.000000</td>\n",
              "      <td>0.000000</td>\n",
              "      <td>NaN</td>\n",
              "      <td>1.0</td>\n",
              "      <td>1.0</td>\n",
              "      <td>1.0</td>\n",
              "      <td>1.0</td>\n",
              "      <td>1.0</td>\n",
              "      <td>1.0</td>\n",
              "      <td>1.0</td>\n",
              "      <td>1.0</td>\n",
              "      <td>1.0</td>\n",
              "      <td>1.0</td>\n",
              "      <td>NaN</td>\n",
              "      <td>1.0</td>\n",
              "      <td>1.0</td>\n",
              "      <td>1.0</td>\n",
              "      <td>1.0</td>\n",
              "      <td>1.0</td>\n",
              "      <td>0.000000</td>\n",
              "      <td>NaN</td>\n",
              "      <td>NaN</td>\n",
              "      <td>NaN</td>\n",
              "      <td>NaN</td>\n",
              "      <td>NaN</td>\n",
              "      <td>NaN</td>\n",
              "      <td>6000.000000</td>\n",
              "      <td>0.000000</td>\n",
              "      <td>NaN</td>\n",
              "      <td>0.000000</td>\n",
              "      <td>0.000000</td>\n",
              "      <td>...</td>\n",
              "      <td>1.0</td>\n",
              "      <td>1.0</td>\n",
              "      <td>1.0</td>\n",
              "      <td>1.0</td>\n",
              "      <td>NaN</td>\n",
              "      <td>1.0</td>\n",
              "      <td>1.0</td>\n",
              "      <td>1.0</td>\n",
              "      <td>1.0</td>\n",
              "      <td>1.0</td>\n",
              "      <td>1.0</td>\n",
              "      <td>1.0</td>\n",
              "      <td>1.0</td>\n",
              "      <td>1.0</td>\n",
              "      <td>1.0</td>\n",
              "      <td>1.0</td>\n",
              "      <td>1.0</td>\n",
              "      <td>1.0</td>\n",
              "      <td>1.0</td>\n",
              "      <td>1.0</td>\n",
              "      <td>1.0</td>\n",
              "      <td>1.0</td>\n",
              "      <td>1.0</td>\n",
              "      <td>1.0</td>\n",
              "      <td>1.0</td>\n",
              "      <td>1.0</td>\n",
              "      <td>NaN</td>\n",
              "      <td>1.0</td>\n",
              "      <td>1.0</td>\n",
              "      <td>1.0</td>\n",
              "      <td>1.0</td>\n",
              "      <td>1.0</td>\n",
              "      <td>1.0</td>\n",
              "      <td>1.0</td>\n",
              "      <td>1.0</td>\n",
              "      <td>1.0</td>\n",
              "      <td>1.0</td>\n",
              "      <td>NaN</td>\n",
              "      <td>NaN</td>\n",
              "      <td>0.000000</td>\n",
              "    </tr>\n",
              "    <tr>\n",
              "      <th>25%</th>\n",
              "      <td>23.000000</td>\n",
              "      <td>NaN</td>\n",
              "      <td>0.000000</td>\n",
              "      <td>0.000000</td>\n",
              "      <td>0.000000</td>\n",
              "      <td>0.000000</td>\n",
              "      <td>3.000000</td>\n",
              "      <td>NaN</td>\n",
              "      <td>50000.000000</td>\n",
              "      <td>1.000000</td>\n",
              "      <td>1.000000</td>\n",
              "      <td>NaN</td>\n",
              "      <td>1.0</td>\n",
              "      <td>1.0</td>\n",
              "      <td>1.0</td>\n",
              "      <td>1.0</td>\n",
              "      <td>1.0</td>\n",
              "      <td>1.0</td>\n",
              "      <td>1.0</td>\n",
              "      <td>1.0</td>\n",
              "      <td>1.0</td>\n",
              "      <td>1.0</td>\n",
              "      <td>NaN</td>\n",
              "      <td>1.0</td>\n",
              "      <td>1.0</td>\n",
              "      <td>1.0</td>\n",
              "      <td>1.0</td>\n",
              "      <td>1.0</td>\n",
              "      <td>15.000000</td>\n",
              "      <td>NaN</td>\n",
              "      <td>NaN</td>\n",
              "      <td>NaN</td>\n",
              "      <td>NaN</td>\n",
              "      <td>NaN</td>\n",
              "      <td>NaN</td>\n",
              "      <td>35000.000000</td>\n",
              "      <td>0.000000</td>\n",
              "      <td>NaN</td>\n",
              "      <td>0.000000</td>\n",
              "      <td>0.000000</td>\n",
              "      <td>...</td>\n",
              "      <td>1.0</td>\n",
              "      <td>1.0</td>\n",
              "      <td>1.0</td>\n",
              "      <td>1.0</td>\n",
              "      <td>NaN</td>\n",
              "      <td>1.0</td>\n",
              "      <td>1.0</td>\n",
              "      <td>1.0</td>\n",
              "      <td>1.0</td>\n",
              "      <td>1.0</td>\n",
              "      <td>1.0</td>\n",
              "      <td>1.0</td>\n",
              "      <td>1.0</td>\n",
              "      <td>1.0</td>\n",
              "      <td>1.0</td>\n",
              "      <td>1.0</td>\n",
              "      <td>1.0</td>\n",
              "      <td>1.0</td>\n",
              "      <td>1.0</td>\n",
              "      <td>1.0</td>\n",
              "      <td>1.0</td>\n",
              "      <td>1.0</td>\n",
              "      <td>1.0</td>\n",
              "      <td>1.0</td>\n",
              "      <td>1.0</td>\n",
              "      <td>1.0</td>\n",
              "      <td>NaN</td>\n",
              "      <td>1.0</td>\n",
              "      <td>1.0</td>\n",
              "      <td>1.0</td>\n",
              "      <td>1.0</td>\n",
              "      <td>1.0</td>\n",
              "      <td>1.0</td>\n",
              "      <td>1.0</td>\n",
              "      <td>1.0</td>\n",
              "      <td>1.0</td>\n",
              "      <td>1.0</td>\n",
              "      <td>NaN</td>\n",
              "      <td>NaN</td>\n",
              "      <td>10000.000000</td>\n",
              "    </tr>\n",
              "    <tr>\n",
              "      <th>50%</th>\n",
              "      <td>27.000000</td>\n",
              "      <td>NaN</td>\n",
              "      <td>0.000000</td>\n",
              "      <td>1.000000</td>\n",
              "      <td>1.000000</td>\n",
              "      <td>0.000000</td>\n",
              "      <td>6.000000</td>\n",
              "      <td>NaN</td>\n",
              "      <td>60000.000000</td>\n",
              "      <td>1.000000</td>\n",
              "      <td>2.000000</td>\n",
              "      <td>NaN</td>\n",
              "      <td>1.0</td>\n",
              "      <td>1.0</td>\n",
              "      <td>1.0</td>\n",
              "      <td>1.0</td>\n",
              "      <td>1.0</td>\n",
              "      <td>1.0</td>\n",
              "      <td>1.0</td>\n",
              "      <td>1.0</td>\n",
              "      <td>1.0</td>\n",
              "      <td>1.0</td>\n",
              "      <td>NaN</td>\n",
              "      <td>1.0</td>\n",
              "      <td>1.0</td>\n",
              "      <td>1.0</td>\n",
              "      <td>1.0</td>\n",
              "      <td>1.0</td>\n",
              "      <td>40.000000</td>\n",
              "      <td>NaN</td>\n",
              "      <td>NaN</td>\n",
              "      <td>NaN</td>\n",
              "      <td>NaN</td>\n",
              "      <td>NaN</td>\n",
              "      <td>NaN</td>\n",
              "      <td>50000.000000</td>\n",
              "      <td>0.000000</td>\n",
              "      <td>NaN</td>\n",
              "      <td>1.000000</td>\n",
              "      <td>0.000000</td>\n",
              "      <td>...</td>\n",
              "      <td>1.0</td>\n",
              "      <td>1.0</td>\n",
              "      <td>1.0</td>\n",
              "      <td>1.0</td>\n",
              "      <td>NaN</td>\n",
              "      <td>1.0</td>\n",
              "      <td>1.0</td>\n",
              "      <td>1.0</td>\n",
              "      <td>1.0</td>\n",
              "      <td>1.0</td>\n",
              "      <td>1.0</td>\n",
              "      <td>1.0</td>\n",
              "      <td>1.0</td>\n",
              "      <td>1.0</td>\n",
              "      <td>1.0</td>\n",
              "      <td>1.0</td>\n",
              "      <td>1.0</td>\n",
              "      <td>1.0</td>\n",
              "      <td>1.0</td>\n",
              "      <td>1.0</td>\n",
              "      <td>1.0</td>\n",
              "      <td>1.0</td>\n",
              "      <td>1.0</td>\n",
              "      <td>1.0</td>\n",
              "      <td>1.0</td>\n",
              "      <td>1.0</td>\n",
              "      <td>NaN</td>\n",
              "      <td>1.0</td>\n",
              "      <td>1.0</td>\n",
              "      <td>1.0</td>\n",
              "      <td>1.0</td>\n",
              "      <td>1.0</td>\n",
              "      <td>1.0</td>\n",
              "      <td>1.0</td>\n",
              "      <td>1.0</td>\n",
              "      <td>1.0</td>\n",
              "      <td>1.0</td>\n",
              "      <td>NaN</td>\n",
              "      <td>NaN</td>\n",
              "      <td>20000.000000</td>\n",
              "    </tr>\n",
              "    <tr>\n",
              "      <th>75%</th>\n",
              "      <td>33.000000</td>\n",
              "      <td>NaN</td>\n",
              "      <td>0.000000</td>\n",
              "      <td>1.000000</td>\n",
              "      <td>1.000000</td>\n",
              "      <td>1.000000</td>\n",
              "      <td>12.000000</td>\n",
              "      <td>NaN</td>\n",
              "      <td>77000.000000</td>\n",
              "      <td>1.000000</td>\n",
              "      <td>2.000000</td>\n",
              "      <td>NaN</td>\n",
              "      <td>1.0</td>\n",
              "      <td>1.0</td>\n",
              "      <td>1.0</td>\n",
              "      <td>1.0</td>\n",
              "      <td>1.0</td>\n",
              "      <td>1.0</td>\n",
              "      <td>1.0</td>\n",
              "      <td>1.0</td>\n",
              "      <td>1.0</td>\n",
              "      <td>1.0</td>\n",
              "      <td>NaN</td>\n",
              "      <td>1.0</td>\n",
              "      <td>1.0</td>\n",
              "      <td>1.0</td>\n",
              "      <td>1.0</td>\n",
              "      <td>1.0</td>\n",
              "      <td>70.000000</td>\n",
              "      <td>NaN</td>\n",
              "      <td>NaN</td>\n",
              "      <td>NaN</td>\n",
              "      <td>NaN</td>\n",
              "      <td>NaN</td>\n",
              "      <td>NaN</td>\n",
              "      <td>70000.000000</td>\n",
              "      <td>0.000000</td>\n",
              "      <td>NaN</td>\n",
              "      <td>1.000000</td>\n",
              "      <td>1.000000</td>\n",
              "      <td>...</td>\n",
              "      <td>1.0</td>\n",
              "      <td>1.0</td>\n",
              "      <td>1.0</td>\n",
              "      <td>1.0</td>\n",
              "      <td>NaN</td>\n",
              "      <td>1.0</td>\n",
              "      <td>1.0</td>\n",
              "      <td>1.0</td>\n",
              "      <td>1.0</td>\n",
              "      <td>1.0</td>\n",
              "      <td>1.0</td>\n",
              "      <td>1.0</td>\n",
              "      <td>1.0</td>\n",
              "      <td>1.0</td>\n",
              "      <td>1.0</td>\n",
              "      <td>1.0</td>\n",
              "      <td>1.0</td>\n",
              "      <td>1.0</td>\n",
              "      <td>1.0</td>\n",
              "      <td>1.0</td>\n",
              "      <td>1.0</td>\n",
              "      <td>1.0</td>\n",
              "      <td>1.0</td>\n",
              "      <td>1.0</td>\n",
              "      <td>1.0</td>\n",
              "      <td>1.0</td>\n",
              "      <td>NaN</td>\n",
              "      <td>1.0</td>\n",
              "      <td>1.0</td>\n",
              "      <td>1.0</td>\n",
              "      <td>1.0</td>\n",
              "      <td>1.0</td>\n",
              "      <td>1.0</td>\n",
              "      <td>1.0</td>\n",
              "      <td>1.0</td>\n",
              "      <td>1.0</td>\n",
              "      <td>1.0</td>\n",
              "      <td>NaN</td>\n",
              "      <td>NaN</td>\n",
              "      <td>40000.000000</td>\n",
              "    </tr>\n",
              "    <tr>\n",
              "      <th>max</th>\n",
              "      <td>86.000000</td>\n",
              "      <td>NaN</td>\n",
              "      <td>1.000000</td>\n",
              "      <td>1.000000</td>\n",
              "      <td>1.000000</td>\n",
              "      <td>1.000000</td>\n",
              "      <td>220.000000</td>\n",
              "      <td>NaN</td>\n",
              "      <td>200000.000000</td>\n",
              "      <td>1.000000</td>\n",
              "      <td>18.000000</td>\n",
              "      <td>NaN</td>\n",
              "      <td>1.0</td>\n",
              "      <td>1.0</td>\n",
              "      <td>1.0</td>\n",
              "      <td>1.0</td>\n",
              "      <td>1.0</td>\n",
              "      <td>1.0</td>\n",
              "      <td>1.0</td>\n",
              "      <td>1.0</td>\n",
              "      <td>1.0</td>\n",
              "      <td>1.0</td>\n",
              "      <td>NaN</td>\n",
              "      <td>1.0</td>\n",
              "      <td>1.0</td>\n",
              "      <td>1.0</td>\n",
              "      <td>1.0</td>\n",
              "      <td>1.0</td>\n",
              "      <td>1000.000000</td>\n",
              "      <td>NaN</td>\n",
              "      <td>NaN</td>\n",
              "      <td>NaN</td>\n",
              "      <td>NaN</td>\n",
              "      <td>NaN</td>\n",
              "      <td>NaN</td>\n",
              "      <td>200000.000000</td>\n",
              "      <td>1.000000</td>\n",
              "      <td>NaN</td>\n",
              "      <td>1.000000</td>\n",
              "      <td>1.000000</td>\n",
              "      <td>...</td>\n",
              "      <td>1.0</td>\n",
              "      <td>1.0</td>\n",
              "      <td>1.0</td>\n",
              "      <td>1.0</td>\n",
              "      <td>NaN</td>\n",
              "      <td>1.0</td>\n",
              "      <td>1.0</td>\n",
              "      <td>1.0</td>\n",
              "      <td>1.0</td>\n",
              "      <td>1.0</td>\n",
              "      <td>1.0</td>\n",
              "      <td>1.0</td>\n",
              "      <td>1.0</td>\n",
              "      <td>1.0</td>\n",
              "      <td>1.0</td>\n",
              "      <td>1.0</td>\n",
              "      <td>1.0</td>\n",
              "      <td>1.0</td>\n",
              "      <td>1.0</td>\n",
              "      <td>1.0</td>\n",
              "      <td>1.0</td>\n",
              "      <td>1.0</td>\n",
              "      <td>1.0</td>\n",
              "      <td>1.0</td>\n",
              "      <td>1.0</td>\n",
              "      <td>1.0</td>\n",
              "      <td>NaN</td>\n",
              "      <td>1.0</td>\n",
              "      <td>1.0</td>\n",
              "      <td>1.0</td>\n",
              "      <td>1.0</td>\n",
              "      <td>1.0</td>\n",
              "      <td>1.0</td>\n",
              "      <td>1.0</td>\n",
              "      <td>1.0</td>\n",
              "      <td>1.0</td>\n",
              "      <td>1.0</td>\n",
              "      <td>NaN</td>\n",
              "      <td>NaN</td>\n",
              "      <td>1000000.000000</td>\n",
              "    </tr>\n",
              "  </tbody>\n",
              "</table>\n",
              "<p>11 rows × 114 columns</p>\n",
              "</div>"
            ],
            "text/plain": [
              "                 Age Age range  ...       SchoolMajor  StudentDebtOwe\n",
              "count   13613.000000     13613  ...              8450     3514.000000\n",
              "unique           NaN         8  ...               426             NaN\n",
              "top              NaN     20-29  ...  Computer Science             NaN\n",
              "freq             NaN      6976  ...              1387             NaN\n",
              "mean       29.175421       NaN  ...               NaN    34556.143711\n",
              "std         9.017716       NaN  ...               NaN    54423.139781\n",
              "min        10.000000       NaN  ...               NaN        0.000000\n",
              "25%        23.000000       NaN  ...               NaN    10000.000000\n",
              "50%        27.000000       NaN  ...               NaN    20000.000000\n",
              "75%        33.000000       NaN  ...               NaN    40000.000000\n",
              "max        86.000000       NaN  ...               NaN  1000000.000000\n",
              "\n",
              "[11 rows x 114 columns]"
            ]
          },
          "metadata": {
            "tags": []
          },
          "execution_count": 27
        }
      ]
    },
    {
      "cell_type": "markdown",
      "metadata": {
        "id": "B7z-AvRWXfNI"
      },
      "source": [
        "Для номинальных данных нам интересны следующие показатели: общее количество непустых значений (count), количество уникальных значений (unique), самое часто повторяющееся значение (top), количство повторений top значения (freq).\\\r\n",
        "Остальные показатели нам будут интересны при оценке количественных показателей: минимальное и максимальное значения, квартили (25%, 50%, 75%), среднее арифметическое (mean) и стандартное отклонение(std)."
      ]
    },
    {
      "cell_type": "markdown",
      "metadata": {
        "id": "0PLmiOr0KvD-"
      },
      "source": [
        "Проанализировав результаты можно сделать следующие выводы:\r\n",
        "*   пустые столбцы отсутствуют\r\n",
        "*   самым распространенным рабочим статусом является Employed for wages, то есть устроенные на работу с зарплатой, с частотой повторения 720\r\n",
        "*   самой распространённой сферой деятельностью является software development and IT с 4349 повторений\r\n",
        "*  в некоторых столбцах присутствуют пустые значени\r\n",
        "\r\n",
        "\r\n",
        "\r\n",
        "\r\n",
        ". \r\n",
        "\r\n"
      ]
    },
    {
      "cell_type": "markdown",
      "metadata": {
        "id": "8cr1bVVhQhM9"
      },
      "source": [
        " **Визуализация данных:**"
      ]
    },
    {
      "cell_type": "markdown",
      "metadata": {
        "id": "6n7ewooSQ2am"
      },
      "source": [
        "Рассмотрим зависимость затрачиваемого времени на обучение и возраст студентов"
      ]
    },
    {
      "cell_type": "code",
      "metadata": {
        "colab": {
          "base_uri": "https://localhost:8080/",
          "height": 278
        },
        "id": "Sc8Fn2nvBZCO",
        "outputId": "cfd60428-06b7-469e-f7dd-01530bad0fae"
      },
      "source": [
        "plt.scatter(full_dataset['Age'], full_dataset['HoursLearning']) \n",
        "plt.xlabel('Age')\n",
        "plt.ylabel('HoursLearning')\n",
        "pass"
      ],
      "execution_count": 28,
      "outputs": [
        {
          "output_type": "display_data",
          "data": {
            "image/png": "[encoded data removed]",
            "text/plain": [
              "<Figure size 432x288 with 1 Axes>"
            ]
          },
          "metadata": {
            "tags": [],
            "needs_background": "light"
          }
        }
      ]
    },
    {
      "cell_type": "markdown",
      "metadata": {
        "id": "Ys4aTyJQR3dA"
      },
      "source": [
        "На диаграмме видно, что присутствует выбросы, которые не позволяют корректно визуализировать данные. Попробуем выбрать данные для рандомной группы студентов."
      ]
    },
    {
      "cell_type": "code",
      "metadata": {
        "colab": {
          "base_uri": "https://localhost:8080/",
          "height": 278
        },
        "id": "fOFmNw_4TOMM",
        "outputId": "586b7d53-ff6b-4c60-fc74-ab104e7079ce"
      },
      "source": [
        "np.random.seed(13)\r\n",
        "random_subset = np.random.choice(np.arange(full_dataset.shape[0]), size=1000, replace=False)\r\n",
        "\r\n",
        "plt.scatter(full_dataset.iloc[random_subset]['Age'], full_dataset.iloc[random_subset]['HoursLearning'], alpha=0.4)\r\n",
        "plt.xlabel('Age')\r\n",
        "plt.ylabel('HoursLearning')\r\n",
        "pass"
      ],
      "execution_count": 29,
      "outputs": [
        {
          "output_type": "display_data",
          "data": {
            "image/png": "[encoded data removed]",
            "text/plain": [
              "<Figure size 432x288 with 1 Axes>"
            ]
          },
          "metadata": {
            "tags": [],
            "needs_background": "light"
          }
        }
      ]
    },
    {
      "cell_type": "markdown",
      "metadata": {
        "id": "Zjtsu-OdUgn6"
      },
      "source": [
        "На диаграмме видно, что присутствует выбросы, которые не позволяют корректно визуализировать данные.\r\n",
        "Для того, чтобы избавиться от этих выбросов, найдем квантили для этих двух показателей"
      ]
    },
    {
      "cell_type": "code",
      "metadata": {
        "colab": {
          "base_uri": "https://localhost:8080/"
        },
        "id": "yQKKl4rnZhS7",
        "outputId": "e7d78388-8dd5-4824-f579-7a404b2e16d8"
      },
      "source": [
        "full_dataset['Age'].quantile([0.001,.005,.05,.080,.09,.1,.5,.9,.95,.99,.995])"
      ],
      "execution_count": 30,
      "outputs": [
        {
          "output_type": "execute_result",
          "data": {
            "text/plain": [
              "0.001    12.0\n",
              "0.005    14.0\n",
              "0.050    18.0\n",
              "0.080    19.0\n",
              "0.090    19.0\n",
              "0.100    20.0\n",
              "0.500    27.0\n",
              "0.900    42.0\n",
              "0.950    47.0\n",
              "0.990    57.0\n",
              "0.995    61.0\n",
              "Name: Age, dtype: float64"
            ]
          },
          "metadata": {
            "tags": []
          },
          "execution_count": 30
        }
      ]
    },
    {
      "cell_type": "markdown",
      "metadata": {
        "id": "jvL7K_kYcMP6"
      },
      "source": [
        "Как мы видим на участке до 0.005 возраст студентов меньше 14 лет, что не подходит нам по условиям, так как мы рассматриваем проблему трудоустройства."
      ]
    },
    {
      "cell_type": "code",
      "metadata": {
        "colab": {
          "base_uri": "https://localhost:8080/"
        },
        "id": "k-CrBuiQZqlJ",
        "outputId": "0e6d3f73-77a5-45eb-9351-de0c01985a2e"
      },
      "source": [
        "full_dataset['HoursLearning'].quantile([0.005,.007,.02,.05,.080,.09,.1,.3,.5,.9,.95,.99,.995])"
      ],
      "execution_count": 31,
      "outputs": [
        {
          "output_type": "execute_result",
          "data": {
            "text/plain": [
              "0.005     0.0\n",
              "0.007     0.0\n",
              "0.020     1.0\n",
              "0.050     2.0\n",
              "0.080     2.0\n",
              "0.090     3.0\n",
              "0.100     3.0\n",
              "0.300     6.0\n",
              "0.500    10.0\n",
              "0.900    35.0\n",
              "0.950    40.0\n",
              "0.990    70.0\n",
              "0.995    80.0\n",
              "Name: HoursLearning, dtype: float64"
            ]
          },
          "metadata": {
            "tags": []
          },
          "execution_count": 31
        }
      ]
    },
    {
      "cell_type": "markdown",
      "metadata": {
        "id": "QrbCfAuEayz0"
      },
      "source": [
        "Как мы видим, на участке до0.01 студенты заявляли, что вообще не тратят на обучение время. Это негативно сказывается  на общей картине. Также сомнительно выглядят заявления о том, что некоторые студенты тратят более 80 часов на обучение (участок от 0.995 до 1)."
      ]
    },
    {
      "cell_type": "code",
      "metadata": {
        "colab": {
          "base_uri": "https://localhost:8080/"
        },
        "id": "GwqSg8qNdvnY",
        "outputId": "d45be57b-049c-43df-9be2-f602588e8351"
      },
      "source": [
        "full_dataset['MonthsProgramming'].quantile([0.001,.005,.05,.080,.09,.1,.5,.9,.95,.99,.995])"
      ],
      "execution_count": 32,
      "outputs": [
        {
          "output_type": "execute_result",
          "data": {
            "text/plain": [
              "0.001      0.0\n",
              "0.005      0.0\n",
              "0.050      1.0\n",
              "0.080      1.0\n",
              "0.090      1.0\n",
              "0.100      1.0\n",
              "0.500      9.0\n",
              "0.900     60.0\n",
              "0.950    100.0\n",
              "0.990    240.0\n",
              "0.995    360.0\n",
              "Name: MonthsProgramming, dtype: float64"
            ]
          },
          "metadata": {
            "tags": []
          },
          "execution_count": 32
        }
      ]
    },
    {
      "cell_type": "markdown",
      "metadata": {
        "id": "_fCv90rcdAu3"
      },
      "source": [
        "Занесем очищенные данные в новую переменную clear_dataset"
      ]
    },
    {
      "cell_type": "code",
      "metadata": {
        "colab": {
          "base_uri": "https://localhost:8080/"
        },
        "id": "c50IKa7vdKFX",
        "outputId": "046aa469-ecbb-4acb-c370-8e6b3391bfc3"
      },
      "source": [
        "to_delete = full_dataset[\r\n",
        "    (full_dataset['Age'] < full_dataset['Age'].quantile(0.005)) | \r\n",
        "    (full_dataset['HoursLearning']  < full_dataset['HoursLearning'].quantile(0.007)) | (full_dataset['HoursLearning']  > full_dataset['HoursLearning'].quantile(0.995))].index\r\n",
        "clear_dataset = full_dataset.drop(to_delete)\r\n",
        "\r\n",
        "\r\n",
        "clear_dataset.shape"
      ],
      "execution_count": 33,
      "outputs": [
        {
          "output_type": "execute_result",
          "data": {
            "text/plain": [
              "(15504, 114)"
            ]
          },
          "metadata": {
            "tags": []
          },
          "execution_count": 33
        }
      ]
    },
    {
      "cell_type": "markdown",
      "metadata": {
        "id": "195x7pM4frUV"
      },
      "source": [
        "Посмотри как будет выглядеть предыдущая диаграмма"
      ]
    },
    {
      "cell_type": "code",
      "metadata": {
        "colab": {
          "base_uri": "https://localhost:8080/",
          "height": 278
        },
        "id": "MpcVCgUYfvVi",
        "outputId": "286854ed-2bce-47b7-91b7-1cb0f2a90e8d"
      },
      "source": [
        "plt.scatter(clear_dataset['Age'], clear_dataset['HoursLearning']) \r\n",
        "plt.xlabel('Age')\r\n",
        "plt.ylabel('HoursLearning')\r\n",
        "pass"
      ],
      "execution_count": 34,
      "outputs": [
        {
          "output_type": "display_data",
          "data": {
            "image/png": "[encoded data removed]",
            "text/plain": [
              "<Figure size 432x288 with 1 Axes>"
            ]
          },
          "metadata": {
            "tags": [],
            "needs_background": "light"
          }
        }
      ]
    },
    {
      "cell_type": "markdown",
      "metadata": {
        "id": "PDIYyNZijFHa"
      },
      "source": [
        "Из-за большой плотности точек нельзя точно сказать как распределяется время занятий в зависимости от возраста. Отрисуем результат на меньшей выборке"
      ]
    },
    {
      "cell_type": "code",
      "metadata": {
        "colab": {
          "base_uri": "https://localhost:8080/",
          "height": 278
        },
        "id": "rhNxUnS4jHcC",
        "outputId": "75b9c9ab-0b84-4498-d8c9-2914cd883a71"
      },
      "source": [
        "np.random.seed(13)\r\n",
        "random_subset = np.random.choice(np.arange(clear_dataset.shape[0]), size=1000, replace=False)\r\n",
        "\r\n",
        "plt.scatter(clear_dataset.iloc[random_subset]['Age'], clear_dataset.iloc[random_subset]['HoursLearning'], alpha=0.4)\r\n",
        "plt.xlabel('Age')\r\n",
        "plt.ylabel('HoursLearning')\r\n",
        "pass"
      ],
      "execution_count": 35,
      "outputs": [
        {
          "output_type": "display_data",
          "data": {
            "image/png": "[encoded data removed]",
            "text/plain": [
              "<Figure size 432x288 with 1 Axes>"
            ]
          },
          "metadata": {
            "tags": [],
            "needs_background": "light"
          }
        }
      ]
    },
    {
      "cell_type": "markdown",
      "metadata": {
        "id": "n2j2i9RAkdfk"
      },
      "source": [
        "Сейчас лучше видна линейная зависимость времени, уделяемому на учебу и возраста студентов."
      ]
    },
    {
      "cell_type": "markdown",
      "metadata": {
        "id": "R3OmV5kxk7xl"
      },
      "source": [
        "**Визуализация данных**\\\r\n",
        "Добавляем признак, по которому классифицируем данные \\\r\n",
        "За рабочий статус студента отвечает цвет, за опыт в программировании - размер. Оси ординат и абцисс - возраст и затрачиваемое время соотвественно."
      ]
    },
    {
      "cell_type": "code",
      "metadata": {
        "colab": {
          "base_uri": "https://localhost:8080/",
          "height": 387
        },
        "id": "iWmdjzA_mrHC",
        "outputId": "409e2d3a-48c5-49ef-f7ed-f29adf61b0e9"
      },
      "source": [
        "#@title Default title text\n",
        "np.random.seed(73)\n",
        "random_subset = np.random.choice(np.arange(clear_dataset.shape[0]), size=3000, replace=False)\n",
        "plt.figure(figsize = (8, 6))\n",
        "sns.scatterplot(x='Age', y='HoursLearning', size='MonthsProgramming', hue='EmploymentStatus', data=clear_dataset.iloc[random_subset], alpha=0.5)\n",
        "pass"
      ],
      "execution_count": 36,
      "outputs": [
        {
          "output_type": "display_data",
          "data": {
            "image/png": "[encoded data removed]",
            "text/plain": [
              "<Figure size 576x432 with 1 Axes>"
            ]
          },
          "metadata": {
            "tags": [],
            "needs_background": "light"
          }
        }
      ]
    },
    {
      "cell_type": "markdown",
      "metadata": {
        "id": "tBpyOoT8rIsX"
      },
      "source": [
        "\r\n",
        "\r\n",
        "*   Наблюдается корреляция между возрастом и временем затрачиваемым на учебу\r\n",
        "*   Хорошо прослеживается зависимости трудового статуса от возраста. Основная масса работающих людей после 25 лет. Также в группе трудоустроеных наблюдается зависимость времени затрачиваемого  на учебу и возраста.\r\n",
        "*   Большая часть людей, которые тратят более 30 часов на обучение, - безработные или самозанятые люди.\r\n",
        "\r\n",
        "Построим все возможные диаграммы рассеивания для каждой пары переменных, на малой выборке. Так как у нас в сете 114 параметров, для увеличения скорости построения диаграмм создадим урезанный датасет без информации о буткемпах, ивентах, использованных ресурсов и прослушиваемых подкастов."
      ]
    },
    {
      "cell_type": "code",
      "metadata": {
        "id": "mZWa41kKyjKm"
      },
      "source": [
        "short_dataset=clear_dataset\r\n",
        "del short_dataset['BootcampFinish']\r\n",
        "del short_dataset['BootcampFullJobAfter']\r\n",
        "del short_dataset['BootcampLoanYesNo']\r\n",
        "del short_dataset['BootcampMonthsAgo']\r\n",
        "del short_dataset['Bootcampme']\r\n",
        "del short_dataset['BootcampPostSalary']\r\n",
        "del short_dataset['BootcampRecommend']\r\n",
        "del short_dataset['CodeEventBootcamp']\r\n",
        "del short_dataset['CodeEventCoffee']\r\n",
        "del short_dataset['CodeEventConferences']\r\n",
        "del short_dataset['CodeEventDjangoGirls']\r\n",
        "del short_dataset['CodeEventGameJam']\r\n",
        "del short_dataset['CodeEventGirlDev']\r\n",
        "del short_dataset['CodeEventHackathons']\r\n",
        "del short_dataset['CodeEventMeetup']\r\n",
        "del short_dataset['CodeEventNodeSchool']\r\n",
        "del short_dataset['CodeEventNone']\r\n",
        "del short_dataset['CodeEventOther']\r\n",
        "del short_dataset['CodeEventRailsBridge']\r\n",
        "del short_dataset['CodeEventRailsGirls']\r\n",
        "del short_dataset['CodeEventStartUpWknd']\r\n",
        "del short_dataset['CodeEventWomenCode']\r\n",
        "del short_dataset['CodeEventWorkshop']\r\n",
        "del short_dataset['CommuteTime']\r\n",
        "del short_dataset['ID.x']\r\n",
        "del short_dataset['ID.y']\r\n",
        "del short_dataset['NetworkID']\r\n",
        "del short_dataset['Part1EndTime']\r\n",
        "del short_dataset['Part1StartTime']\r\n",
        "del short_dataset['Part2EndTime']\r\n",
        "del short_dataset['Part2StartTime']\r\n",
        "del short_dataset['PodcastChangeLog']\r\n",
        "del short_dataset['PodcastCodeNewbie']\r\n",
        "del short_dataset['PodcastCodingBlocks']\r\n",
        "del short_dataset['PodcastDeveloperTea']\r\n",
        "del short_dataset['PodcastDotNetRocks']\r\n",
        "del short_dataset['PodcastHanselminutes']\r\n",
        "del short_dataset['PodcastJSJabber']\r\n",
        "del short_dataset['PodcastJsAir']\r\n",
        "del short_dataset['PodcastNone']\r\n",
        "del short_dataset['PodcastOther']\r\n",
        "del short_dataset['PodcastProgrammingThrowDown']\r\n",
        "del short_dataset['PodcastRubyRogues']\r\n",
        "del short_dataset['PodcastSEDaily']\r\n",
        "del short_dataset['PodcastShopTalk']\r\n",
        "del short_dataset['PodcastTalkPython']\r\n",
        "del short_dataset['PodcastWebAhead']\r\n",
        "del short_dataset['ResourceBlogs']\r\n",
        "del short_dataset['ResourceBooks']\r\n",
        "del short_dataset['ResourceCodeWars']\r\n",
        "del short_dataset['ResourceCodecademy']\r\n",
        "del short_dataset['ResourceCoursera']\r\n",
        "del short_dataset['ResourceDevTips']\r\n",
        "del short_dataset['ResourceEdX']\r\n",
        "del short_dataset['ResourceEggHead']\r\n",
        "del short_dataset['ResourceFCC']\r\n",
        "del short_dataset['ResourceGoogle']\r\n",
        "del short_dataset['ResourceHackerRank']\r\n",
        "del short_dataset['ResourceKhacademy']\r\n",
        "del short_dataset['ResourceLynda']\r\n",
        "del short_dataset['ResourceMDN']\r\n",
        "del short_dataset['ResourceOdinProj']\r\n",
        "del short_dataset['ResourceOther']\r\n",
        "del short_dataset['ResourcePluralSight']\r\n",
        "del short_dataset['ResourceReddit']\r\n",
        "del short_dataset['ResourceSkillCrush']\r\n",
        "del short_dataset['ResourceSoloLearn']\r\n",
        "del short_dataset['ResourceStackOverflow']\r\n",
        "del short_dataset['ResourceTreehouse']\r\n",
        "del short_dataset['ResourceUdacity']\r\n",
        "del short_dataset['ResourceUdemy']\r\n",
        "del short_dataset['ResourceW3Schools']\r\n",
        "del short_dataset['ResourceYouTube']\r\n"
      ],
      "execution_count": 38,
      "outputs": []
    },
    {
      "cell_type": "code",
      "metadata": {
        "id": "AH_GTzZ1tKYp"
      },
      "source": [
        "np.random.seed(73)\r\n",
        "random_subset = np.random.choice(np.arange(short_dataset.shape[0]), size=10000, replace=False)\r\n",
        "sns.pairplot(short_dataset.iloc[random_subset], hue='EmploymentStatus', diag_kind='hist')\r\n",
        "plt.legend()\r\n",
        "pass"
      ],
      "execution_count": null,
      "outputs": []
    },
    {
      "cell_type": "markdown",
      "metadata": {
        "id": "SrK9vY98vdkl"
      },
      "source": [
        ""
      ]
    },
    {
      "cell_type": "markdown",
      "metadata": {
        "id": "dQHJlGUIvhRU"
      },
      "source": [
        "Рассмотрим распределение наших трех основных показателей: времени затраченного на обучение, возраста и имеющегося опыта в программировании.."
      ]
    },
    {
      "cell_type": "code",
      "metadata": {
        "id": "9ukMY1g0whJ1",
        "colab": {
          "base_uri": "https://localhost:8080/",
          "height": 331
        },
        "outputId": "59040a11-eab7-4779-9ab4-640e7d544ec6"
      },
      "source": [
        "sns.distplot(clear_dataset['Age'], bins = 20)\r\n",
        "pass"
      ],
      "execution_count": 40,
      "outputs": [
        {
          "output_type": "stream",
          "text": [
            "/usr/local/lib/python3.6/dist-packages/seaborn/distributions.py:2551: FutureWarning: `distplot` is a deprecated function and will be removed in a future version. Please adapt your code to use either `displot` (a figure-level function with similar flexibility) or `histplot` (an axes-level function for histograms).\n",
            "  warnings.warn(msg, FutureWarning)\n"
          ],
          "name": "stderr"
        },
        {
          "output_type": "display_data",
          "data": {
            "image/png": "[encoded data removed]",
            "text/plain": [
              "<Figure size 432x288 with 1 Axes>"
            ]
          },
          "metadata": {
            "tags": [],
            "needs_background": "light"
          }
        }
      ]
    },
    {
      "cell_type": "code",
      "metadata": {
        "id": "MAtieKgiw3UK",
        "colab": {
          "base_uri": "https://localhost:8080/",
          "height": 331
        },
        "outputId": "260547ff-c009-4465-bcbd-03d9a56cf1bf"
      },
      "source": [
        "sns.distplot(clear_dataset['HoursLearning'], bins = 20)\r\n",
        "pass"
      ],
      "execution_count": 42,
      "outputs": [
        {
          "output_type": "stream",
          "text": [
            "/usr/local/lib/python3.6/dist-packages/seaborn/distributions.py:2551: FutureWarning: `distplot` is a deprecated function and will be removed in a future version. Please adapt your code to use either `displot` (a figure-level function with similar flexibility) or `histplot` (an axes-level function for histograms).\n",
            "  warnings.warn(msg, FutureWarning)\n"
          ],
          "name": "stderr"
        },
        {
          "output_type": "display_data",
          "data": {
            "image/png": "[encoded data removed]",
            "text/plain": [
              "<Figure size 432x288 with 1 Axes>"
            ]
          },
          "metadata": {
            "tags": [],
            "needs_background": "light"
          }
        }
      ]
    },
    {
      "cell_type": "code",
      "metadata": {
        "id": "RpWN3DOqw5lP",
        "colab": {
          "base_uri": "https://localhost:8080/",
          "height": 331
        },
        "outputId": "7c34ed4b-a194-4fa6-ce06-da7cc45dc7d1"
      },
      "source": [
        "sns.distplot(clear_dataset['MonthsProgramming'], bins = 20)\r\n",
        "pass"
      ],
      "execution_count": 43,
      "outputs": [
        {
          "output_type": "stream",
          "text": [
            "/usr/local/lib/python3.6/dist-packages/seaborn/distributions.py:2551: FutureWarning: `distplot` is a deprecated function and will be removed in a future version. Please adapt your code to use either `displot` (a figure-level function with similar flexibility) or `histplot` (an axes-level function for histograms).\n",
            "  warnings.warn(msg, FutureWarning)\n"
          ],
          "name": "stderr"
        },
        {
          "output_type": "display_data",
          "data": {
            "image/png": "[encoded data removed]",
            "text/plain": [
              "<Figure size 432x288 with 1 Axes>"
            ]
          },
          "metadata": {
            "tags": [],
            "needs_background": "light"
          }
        }
      ]
    },
    {
      "cell_type": "markdown",
      "metadata": {
        "id": "9VTVxo7I3Dw3"
      },
      "source": [
        "Построим кореляционную матрицудля оценки степени зависимости количественных признаков друг от друга"
      ]
    },
    {
      "cell_type": "code",
      "metadata": {
        "colab": {
          "base_uri": "https://localhost:8080/",
          "height": 728
        },
        "id": "g23H1WZF3LbJ",
        "outputId": "65256371-0d78-4269-95cc-cc80bc2cb0b0"
      },
      "source": [
        "correl = clear_dataset.corr()\r\n",
        "correl"
      ],
      "execution_count": 46,
      "outputs": [
        {
          "output_type": "execute_result",
          "data": {
            "text/html": [
              "<div>\n",
              "<style scoped>\n",
              "    .dataframe tbody tr th:only-of-type {\n",
              "        vertical-align: middle;\n",
              "    }\n",
              "\n",
              "    .dataframe tbody tr th {\n",
              "        vertical-align: top;\n",
              "    }\n",
              "\n",
              "    .dataframe thead th {\n",
              "        text-align: right;\n",
              "    }\n",
              "</style>\n",
              "<table border=\"1\" class=\"dataframe\">\n",
              "  <thead>\n",
              "    <tr style=\"text-align: right;\">\n",
              "      <th></th>\n",
              "      <th>Age</th>\n",
              "      <th>AttendedBootcamp</th>\n",
              "      <th>ChildrenNumber</th>\n",
              "      <th>ExpectedEarning</th>\n",
              "      <th>FinciallySupporting</th>\n",
              "      <th>HasChildren</th>\n",
              "      <th>HasDebt</th>\n",
              "      <th>HasFincialDependents</th>\n",
              "      <th>HasHighSpdInternet</th>\n",
              "      <th>HasHomeMortgage</th>\n",
              "      <th>HasServedInMilitary</th>\n",
              "      <th>HasStudentDebt</th>\n",
              "      <th>HomeMortgageOwe</th>\n",
              "      <th>HoursLearning</th>\n",
              "      <th>Income</th>\n",
              "      <th>IsEthnicMinority</th>\n",
              "      <th>IsReceiveDiabilitiesBenefits</th>\n",
              "      <th>IsSoftwareDev</th>\n",
              "      <th>IsUnderEmployed</th>\n",
              "      <th>JobRelocateYesNo</th>\n",
              "      <th>MoneyForLearning</th>\n",
              "      <th>MonthsProgramming</th>\n",
              "      <th>StudentDebtOwe</th>\n",
              "    </tr>\n",
              "  </thead>\n",
              "  <tbody>\n",
              "    <tr>\n",
              "      <th>Age</th>\n",
              "      <td>1.000000</td>\n",
              "      <td>0.053278</td>\n",
              "      <td>0.243178</td>\n",
              "      <td>0.108358</td>\n",
              "      <td>-0.100036</td>\n",
              "      <td>0.454778</td>\n",
              "      <td>0.283037</td>\n",
              "      <td>0.372064</td>\n",
              "      <td>0.171188</td>\n",
              "      <td>0.371651</td>\n",
              "      <td>0.195805</td>\n",
              "      <td>-0.237161</td>\n",
              "      <td>0.044391</td>\n",
              "      <td>-0.024694</td>\n",
              "      <td>0.258223</td>\n",
              "      <td>-0.007810</td>\n",
              "      <td>0.051773</td>\n",
              "      <td>0.008266</td>\n",
              "      <td>0.027578</td>\n",
              "      <td>-0.202084</td>\n",
              "      <td>0.097857</td>\n",
              "      <td>0.221143</td>\n",
              "      <td>0.118239</td>\n",
              "    </tr>\n",
              "    <tr>\n",
              "      <th>AttendedBootcamp</th>\n",
              "      <td>0.053278</td>\n",
              "      <td>1.000000</td>\n",
              "      <td>-0.002714</td>\n",
              "      <td>0.094781</td>\n",
              "      <td>-0.029414</td>\n",
              "      <td>0.032305</td>\n",
              "      <td>0.061550</td>\n",
              "      <td>-0.024234</td>\n",
              "      <td>0.053274</td>\n",
              "      <td>-0.019243</td>\n",
              "      <td>-0.006141</td>\n",
              "      <td>0.052379</td>\n",
              "      <td>0.057050</td>\n",
              "      <td>0.169926</td>\n",
              "      <td>0.013050</td>\n",
              "      <td>0.047970</td>\n",
              "      <td>-0.009933</td>\n",
              "      <td>0.108699</td>\n",
              "      <td>-0.054345</td>\n",
              "      <td>-0.070850</td>\n",
              "      <td>0.385406</td>\n",
              "      <td>-0.045486</td>\n",
              "      <td>-0.011262</td>\n",
              "    </tr>\n",
              "    <tr>\n",
              "      <th>ChildrenNumber</th>\n",
              "      <td>0.243178</td>\n",
              "      <td>-0.002714</td>\n",
              "      <td>1.000000</td>\n",
              "      <td>0.099304</td>\n",
              "      <td>0.020992</td>\n",
              "      <td>NaN</td>\n",
              "      <td>0.076120</td>\n",
              "      <td>NaN</td>\n",
              "      <td>0.018979</td>\n",
              "      <td>0.100332</td>\n",
              "      <td>0.087870</td>\n",
              "      <td>0.037840</td>\n",
              "      <td>0.114687</td>\n",
              "      <td>-0.021642</td>\n",
              "      <td>0.098447</td>\n",
              "      <td>0.030231</td>\n",
              "      <td>0.098819</td>\n",
              "      <td>-0.014668</td>\n",
              "      <td>-0.006196</td>\n",
              "      <td>-0.006434</td>\n",
              "      <td>-0.005666</td>\n",
              "      <td>0.048094</td>\n",
              "      <td>0.033822</td>\n",
              "    </tr>\n",
              "    <tr>\n",
              "      <th>ExpectedEarning</th>\n",
              "      <td>0.108358</td>\n",
              "      <td>0.094781</td>\n",
              "      <td>0.099304</td>\n",
              "      <td>1.000000</td>\n",
              "      <td>-0.039531</td>\n",
              "      <td>0.057324</td>\n",
              "      <td>0.148633</td>\n",
              "      <td>0.084089</td>\n",
              "      <td>0.058776</td>\n",
              "      <td>0.084199</td>\n",
              "      <td>0.016670</td>\n",
              "      <td>0.067372</td>\n",
              "      <td>0.367153</td>\n",
              "      <td>0.017993</td>\n",
              "      <td>0.381811</td>\n",
              "      <td>0.119675</td>\n",
              "      <td>0.012703</td>\n",
              "      <td>NaN</td>\n",
              "      <td>-0.128431</td>\n",
              "      <td>-0.057498</td>\n",
              "      <td>0.086919</td>\n",
              "      <td>0.041558</td>\n",
              "      <td>0.142072</td>\n",
              "    </tr>\n",
              "    <tr>\n",
              "      <th>FinciallySupporting</th>\n",
              "      <td>-0.100036</td>\n",
              "      <td>-0.029414</td>\n",
              "      <td>0.020992</td>\n",
              "      <td>-0.039531</td>\n",
              "      <td>1.000000</td>\n",
              "      <td>-0.258708</td>\n",
              "      <td>-0.093563</td>\n",
              "      <td>NaN</td>\n",
              "      <td>-0.086400</td>\n",
              "      <td>-0.081142</td>\n",
              "      <td>-0.003953</td>\n",
              "      <td>-0.056138</td>\n",
              "      <td>0.010687</td>\n",
              "      <td>0.022625</td>\n",
              "      <td>-0.111286</td>\n",
              "      <td>0.104714</td>\n",
              "      <td>0.036120</td>\n",
              "      <td>0.062747</td>\n",
              "      <td>0.052033</td>\n",
              "      <td>0.123104</td>\n",
              "      <td>-0.007192</td>\n",
              "      <td>-0.012548</td>\n",
              "      <td>-0.004706</td>\n",
              "    </tr>\n",
              "    <tr>\n",
              "      <th>HasChildren</th>\n",
              "      <td>0.454778</td>\n",
              "      <td>0.032305</td>\n",
              "      <td>NaN</td>\n",
              "      <td>0.057324</td>\n",
              "      <td>-0.258708</td>\n",
              "      <td>1.000000</td>\n",
              "      <td>0.222819</td>\n",
              "      <td>NaN</td>\n",
              "      <td>0.155269</td>\n",
              "      <td>0.222912</td>\n",
              "      <td>0.101496</td>\n",
              "      <td>-0.048569</td>\n",
              "      <td>0.011887</td>\n",
              "      <td>-0.026705</td>\n",
              "      <td>0.147530</td>\n",
              "      <td>-0.043087</td>\n",
              "      <td>0.002760</td>\n",
              "      <td>-0.138182</td>\n",
              "      <td>-0.001526</td>\n",
              "      <td>-0.172900</td>\n",
              "      <td>0.024175</td>\n",
              "      <td>0.046006</td>\n",
              "      <td>0.049597</td>\n",
              "    </tr>\n",
              "    <tr>\n",
              "      <th>HasDebt</th>\n",
              "      <td>0.283037</td>\n",
              "      <td>0.061550</td>\n",
              "      <td>0.076120</td>\n",
              "      <td>0.148633</td>\n",
              "      <td>-0.093563</td>\n",
              "      <td>0.222819</td>\n",
              "      <td>1.000000</td>\n",
              "      <td>0.220217</td>\n",
              "      <td>0.118456</td>\n",
              "      <td>NaN</td>\n",
              "      <td>0.051072</td>\n",
              "      <td>NaN</td>\n",
              "      <td>NaN</td>\n",
              "      <td>-0.027933</td>\n",
              "      <td>0.062993</td>\n",
              "      <td>0.093349</td>\n",
              "      <td>0.023825</td>\n",
              "      <td>-0.014864</td>\n",
              "      <td>0.061017</td>\n",
              "      <td>-0.073470</td>\n",
              "      <td>0.060773</td>\n",
              "      <td>0.011271</td>\n",
              "      <td>NaN</td>\n",
              "    </tr>\n",
              "    <tr>\n",
              "      <th>HasFincialDependents</th>\n",
              "      <td>0.372064</td>\n",
              "      <td>-0.024234</td>\n",
              "      <td>NaN</td>\n",
              "      <td>0.084089</td>\n",
              "      <td>NaN</td>\n",
              "      <td>NaN</td>\n",
              "      <td>0.220217</td>\n",
              "      <td>1.000000</td>\n",
              "      <td>0.047462</td>\n",
              "      <td>0.328088</td>\n",
              "      <td>0.137016</td>\n",
              "      <td>-0.197081</td>\n",
              "      <td>0.002324</td>\n",
              "      <td>-0.071549</td>\n",
              "      <td>0.161194</td>\n",
              "      <td>-0.000257</td>\n",
              "      <td>0.035992</td>\n",
              "      <td>0.106889</td>\n",
              "      <td>-0.040442</td>\n",
              "      <td>-0.109974</td>\n",
              "      <td>0.008094</td>\n",
              "      <td>0.129062</td>\n",
              "      <td>0.016528</td>\n",
              "    </tr>\n",
              "    <tr>\n",
              "      <th>HasHighSpdInternet</th>\n",
              "      <td>0.171188</td>\n",
              "      <td>0.053274</td>\n",
              "      <td>0.018979</td>\n",
              "      <td>0.058776</td>\n",
              "      <td>-0.086400</td>\n",
              "      <td>0.155269</td>\n",
              "      <td>0.118456</td>\n",
              "      <td>0.047462</td>\n",
              "      <td>1.000000</td>\n",
              "      <td>0.063075</td>\n",
              "      <td>0.036059</td>\n",
              "      <td>0.064366</td>\n",
              "      <td>-0.026057</td>\n",
              "      <td>-0.011723</td>\n",
              "      <td>0.063123</td>\n",
              "      <td>0.032887</td>\n",
              "      <td>0.002635</td>\n",
              "      <td>-0.024056</td>\n",
              "      <td>-0.005853</td>\n",
              "      <td>-0.066920</td>\n",
              "      <td>0.038219</td>\n",
              "      <td>0.028294</td>\n",
              "      <td>0.059589</td>\n",
              "    </tr>\n",
              "    <tr>\n",
              "      <th>HasHomeMortgage</th>\n",
              "      <td>0.371651</td>\n",
              "      <td>-0.019243</td>\n",
              "      <td>0.100332</td>\n",
              "      <td>0.084199</td>\n",
              "      <td>-0.081142</td>\n",
              "      <td>0.222912</td>\n",
              "      <td>NaN</td>\n",
              "      <td>0.328088</td>\n",
              "      <td>0.063075</td>\n",
              "      <td>1.000000</td>\n",
              "      <td>0.122246</td>\n",
              "      <td>-0.268329</td>\n",
              "      <td>NaN</td>\n",
              "      <td>-0.092587</td>\n",
              "      <td>0.268690</td>\n",
              "      <td>-0.111397</td>\n",
              "      <td>0.014768</td>\n",
              "      <td>0.069309</td>\n",
              "      <td>-0.094967</td>\n",
              "      <td>-0.262286</td>\n",
              "      <td>0.007387</td>\n",
              "      <td>0.155941</td>\n",
              "      <td>0.038767</td>\n",
              "    </tr>\n",
              "    <tr>\n",
              "      <th>HasServedInMilitary</th>\n",
              "      <td>0.195805</td>\n",
              "      <td>-0.006141</td>\n",
              "      <td>0.087870</td>\n",
              "      <td>0.016670</td>\n",
              "      <td>-0.003953</td>\n",
              "      <td>0.101496</td>\n",
              "      <td>0.051072</td>\n",
              "      <td>0.137016</td>\n",
              "      <td>0.036059</td>\n",
              "      <td>0.122246</td>\n",
              "      <td>1.000000</td>\n",
              "      <td>-0.072098</td>\n",
              "      <td>0.023854</td>\n",
              "      <td>0.007342</td>\n",
              "      <td>0.052722</td>\n",
              "      <td>-0.014655</td>\n",
              "      <td>0.151999</td>\n",
              "      <td>-0.000152</td>\n",
              "      <td>0.013998</td>\n",
              "      <td>-0.000744</td>\n",
              "      <td>0.006402</td>\n",
              "      <td>0.038380</td>\n",
              "      <td>-0.026077</td>\n",
              "    </tr>\n",
              "    <tr>\n",
              "      <th>HasStudentDebt</th>\n",
              "      <td>-0.237161</td>\n",
              "      <td>0.052379</td>\n",
              "      <td>0.037840</td>\n",
              "      <td>0.067372</td>\n",
              "      <td>-0.056138</td>\n",
              "      <td>-0.048569</td>\n",
              "      <td>NaN</td>\n",
              "      <td>-0.197081</td>\n",
              "      <td>0.064366</td>\n",
              "      <td>-0.268329</td>\n",
              "      <td>-0.072098</td>\n",
              "      <td>1.000000</td>\n",
              "      <td>0.000457</td>\n",
              "      <td>0.069393</td>\n",
              "      <td>-0.087709</td>\n",
              "      <td>0.102998</td>\n",
              "      <td>0.002291</td>\n",
              "      <td>-0.059526</td>\n",
              "      <td>0.066272</td>\n",
              "      <td>0.056242</td>\n",
              "      <td>0.020968</td>\n",
              "      <td>-0.124762</td>\n",
              "      <td>NaN</td>\n",
              "    </tr>\n",
              "    <tr>\n",
              "      <th>HomeMortgageOwe</th>\n",
              "      <td>0.044391</td>\n",
              "      <td>0.057050</td>\n",
              "      <td>0.114687</td>\n",
              "      <td>0.367153</td>\n",
              "      <td>0.010687</td>\n",
              "      <td>0.011887</td>\n",
              "      <td>NaN</td>\n",
              "      <td>0.002324</td>\n",
              "      <td>-0.026057</td>\n",
              "      <td>NaN</td>\n",
              "      <td>0.023854</td>\n",
              "      <td>0.000457</td>\n",
              "      <td>1.000000</td>\n",
              "      <td>-0.036775</td>\n",
              "      <td>0.315892</td>\n",
              "      <td>0.067004</td>\n",
              "      <td>-0.003532</td>\n",
              "      <td>-0.017796</td>\n",
              "      <td>-0.043797</td>\n",
              "      <td>-0.145231</td>\n",
              "      <td>0.022450</td>\n",
              "      <td>-0.005458</td>\n",
              "      <td>0.491645</td>\n",
              "    </tr>\n",
              "    <tr>\n",
              "      <th>HoursLearning</th>\n",
              "      <td>-0.024694</td>\n",
              "      <td>0.169926</td>\n",
              "      <td>-0.021642</td>\n",
              "      <td>0.017993</td>\n",
              "      <td>0.022625</td>\n",
              "      <td>-0.026705</td>\n",
              "      <td>-0.027933</td>\n",
              "      <td>-0.071549</td>\n",
              "      <td>-0.011723</td>\n",
              "      <td>-0.092587</td>\n",
              "      <td>0.007342</td>\n",
              "      <td>0.069393</td>\n",
              "      <td>-0.036775</td>\n",
              "      <td>1.000000</td>\n",
              "      <td>-0.069034</td>\n",
              "      <td>-0.002109</td>\n",
              "      <td>0.023715</td>\n",
              "      <td>-0.082141</td>\n",
              "      <td>0.079809</td>\n",
              "      <td>0.024886</td>\n",
              "      <td>0.100889</td>\n",
              "      <td>-0.061181</td>\n",
              "      <td>-0.014474</td>\n",
              "    </tr>\n",
              "    <tr>\n",
              "      <th>Income</th>\n",
              "      <td>0.258223</td>\n",
              "      <td>0.013050</td>\n",
              "      <td>0.098447</td>\n",
              "      <td>0.381811</td>\n",
              "      <td>-0.111286</td>\n",
              "      <td>0.147530</td>\n",
              "      <td>0.062993</td>\n",
              "      <td>0.161194</td>\n",
              "      <td>0.063123</td>\n",
              "      <td>0.268690</td>\n",
              "      <td>0.052722</td>\n",
              "      <td>-0.087709</td>\n",
              "      <td>0.315892</td>\n",
              "      <td>-0.069034</td>\n",
              "      <td>1.000000</td>\n",
              "      <td>0.009268</td>\n",
              "      <td>-0.006099</td>\n",
              "      <td>0.117825</td>\n",
              "      <td>-0.203223</td>\n",
              "      <td>-0.134828</td>\n",
              "      <td>0.077144</td>\n",
              "      <td>0.281643</td>\n",
              "      <td>0.083548</td>\n",
              "    </tr>\n",
              "    <tr>\n",
              "      <th>IsEthnicMinority</th>\n",
              "      <td>-0.007810</td>\n",
              "      <td>0.047970</td>\n",
              "      <td>0.030231</td>\n",
              "      <td>0.119675</td>\n",
              "      <td>0.104714</td>\n",
              "      <td>-0.043087</td>\n",
              "      <td>0.093349</td>\n",
              "      <td>-0.000257</td>\n",
              "      <td>0.032887</td>\n",
              "      <td>-0.111397</td>\n",
              "      <td>-0.014655</td>\n",
              "      <td>0.102998</td>\n",
              "      <td>0.067004</td>\n",
              "      <td>-0.002109</td>\n",
              "      <td>0.009268</td>\n",
              "      <td>1.000000</td>\n",
              "      <td>0.006817</td>\n",
              "      <td>-0.084305</td>\n",
              "      <td>0.057514</td>\n",
              "      <td>0.017145</td>\n",
              "      <td>0.023959</td>\n",
              "      <td>-0.076234</td>\n",
              "      <td>0.065612</td>\n",
              "    </tr>\n",
              "    <tr>\n",
              "      <th>IsReceiveDiabilitiesBenefits</th>\n",
              "      <td>0.051773</td>\n",
              "      <td>-0.009933</td>\n",
              "      <td>0.098819</td>\n",
              "      <td>0.012703</td>\n",
              "      <td>0.036120</td>\n",
              "      <td>0.002760</td>\n",
              "      <td>0.023825</td>\n",
              "      <td>0.035992</td>\n",
              "      <td>0.002635</td>\n",
              "      <td>0.014768</td>\n",
              "      <td>0.151999</td>\n",
              "      <td>0.002291</td>\n",
              "      <td>-0.003532</td>\n",
              "      <td>0.023715</td>\n",
              "      <td>-0.006099</td>\n",
              "      <td>0.006817</td>\n",
              "      <td>1.000000</td>\n",
              "      <td>-0.022006</td>\n",
              "      <td>0.037327</td>\n",
              "      <td>0.007816</td>\n",
              "      <td>0.006579</td>\n",
              "      <td>-0.004311</td>\n",
              "      <td>0.009614</td>\n",
              "    </tr>\n",
              "    <tr>\n",
              "      <th>IsSoftwareDev</th>\n",
              "      <td>0.008266</td>\n",
              "      <td>0.108699</td>\n",
              "      <td>-0.014668</td>\n",
              "      <td>NaN</td>\n",
              "      <td>0.062747</td>\n",
              "      <td>-0.138182</td>\n",
              "      <td>-0.014864</td>\n",
              "      <td>0.106889</td>\n",
              "      <td>-0.024056</td>\n",
              "      <td>0.069309</td>\n",
              "      <td>-0.000152</td>\n",
              "      <td>-0.059526</td>\n",
              "      <td>-0.017796</td>\n",
              "      <td>-0.082141</td>\n",
              "      <td>0.117825</td>\n",
              "      <td>-0.084305</td>\n",
              "      <td>-0.022006</td>\n",
              "      <td>1.000000</td>\n",
              "      <td>-0.286287</td>\n",
              "      <td>NaN</td>\n",
              "      <td>0.092511</td>\n",
              "      <td>0.367453</td>\n",
              "      <td>-0.025789</td>\n",
              "    </tr>\n",
              "    <tr>\n",
              "      <th>IsUnderEmployed</th>\n",
              "      <td>0.027578</td>\n",
              "      <td>-0.054345</td>\n",
              "      <td>-0.006196</td>\n",
              "      <td>-0.128431</td>\n",
              "      <td>0.052033</td>\n",
              "      <td>-0.001526</td>\n",
              "      <td>0.061017</td>\n",
              "      <td>-0.040442</td>\n",
              "      <td>-0.005853</td>\n",
              "      <td>-0.094967</td>\n",
              "      <td>0.013998</td>\n",
              "      <td>0.066272</td>\n",
              "      <td>-0.043797</td>\n",
              "      <td>0.079809</td>\n",
              "      <td>-0.203223</td>\n",
              "      <td>0.057514</td>\n",
              "      <td>0.037327</td>\n",
              "      <td>-0.286287</td>\n",
              "      <td>1.000000</td>\n",
              "      <td>0.051048</td>\n",
              "      <td>-0.047029</td>\n",
              "      <td>-0.116626</td>\n",
              "      <td>0.053089</td>\n",
              "    </tr>\n",
              "    <tr>\n",
              "      <th>JobRelocateYesNo</th>\n",
              "      <td>-0.202084</td>\n",
              "      <td>-0.070850</td>\n",
              "      <td>-0.006434</td>\n",
              "      <td>-0.057498</td>\n",
              "      <td>0.123104</td>\n",
              "      <td>-0.172900</td>\n",
              "      <td>-0.073470</td>\n",
              "      <td>-0.109974</td>\n",
              "      <td>-0.066920</td>\n",
              "      <td>-0.262286</td>\n",
              "      <td>-0.000744</td>\n",
              "      <td>0.056242</td>\n",
              "      <td>-0.145231</td>\n",
              "      <td>0.024886</td>\n",
              "      <td>-0.134828</td>\n",
              "      <td>0.017145</td>\n",
              "      <td>0.007816</td>\n",
              "      <td>NaN</td>\n",
              "      <td>0.051048</td>\n",
              "      <td>1.000000</td>\n",
              "      <td>-0.060205</td>\n",
              "      <td>-0.027797</td>\n",
              "      <td>-0.020078</td>\n",
              "    </tr>\n",
              "    <tr>\n",
              "      <th>MoneyForLearning</th>\n",
              "      <td>0.097857</td>\n",
              "      <td>0.385406</td>\n",
              "      <td>-0.005666</td>\n",
              "      <td>0.086919</td>\n",
              "      <td>-0.007192</td>\n",
              "      <td>0.024175</td>\n",
              "      <td>0.060773</td>\n",
              "      <td>0.008094</td>\n",
              "      <td>0.038219</td>\n",
              "      <td>0.007387</td>\n",
              "      <td>0.006402</td>\n",
              "      <td>0.020968</td>\n",
              "      <td>0.022450</td>\n",
              "      <td>0.100889</td>\n",
              "      <td>0.077144</td>\n",
              "      <td>0.023959</td>\n",
              "      <td>0.006579</td>\n",
              "      <td>0.092511</td>\n",
              "      <td>-0.047029</td>\n",
              "      <td>-0.060205</td>\n",
              "      <td>1.000000</td>\n",
              "      <td>0.087222</td>\n",
              "      <td>0.048086</td>\n",
              "    </tr>\n",
              "    <tr>\n",
              "      <th>MonthsProgramming</th>\n",
              "      <td>0.221143</td>\n",
              "      <td>-0.045486</td>\n",
              "      <td>0.048094</td>\n",
              "      <td>0.041558</td>\n",
              "      <td>-0.012548</td>\n",
              "      <td>0.046006</td>\n",
              "      <td>0.011271</td>\n",
              "      <td>0.129062</td>\n",
              "      <td>0.028294</td>\n",
              "      <td>0.155941</td>\n",
              "      <td>0.038380</td>\n",
              "      <td>-0.124762</td>\n",
              "      <td>-0.005458</td>\n",
              "      <td>-0.061181</td>\n",
              "      <td>0.281643</td>\n",
              "      <td>-0.076234</td>\n",
              "      <td>-0.004311</td>\n",
              "      <td>0.367453</td>\n",
              "      <td>-0.116626</td>\n",
              "      <td>-0.027797</td>\n",
              "      <td>0.087222</td>\n",
              "      <td>1.000000</td>\n",
              "      <td>-0.001960</td>\n",
              "    </tr>\n",
              "    <tr>\n",
              "      <th>StudentDebtOwe</th>\n",
              "      <td>0.118239</td>\n",
              "      <td>-0.011262</td>\n",
              "      <td>0.033822</td>\n",
              "      <td>0.142072</td>\n",
              "      <td>-0.004706</td>\n",
              "      <td>0.049597</td>\n",
              "      <td>NaN</td>\n",
              "      <td>0.016528</td>\n",
              "      <td>0.059589</td>\n",
              "      <td>0.038767</td>\n",
              "      <td>-0.026077</td>\n",
              "      <td>NaN</td>\n",
              "      <td>0.491645</td>\n",
              "      <td>-0.014474</td>\n",
              "      <td>0.083548</td>\n",
              "      <td>0.065612</td>\n",
              "      <td>0.009614</td>\n",
              "      <td>-0.025789</td>\n",
              "      <td>0.053089</td>\n",
              "      <td>-0.020078</td>\n",
              "      <td>0.048086</td>\n",
              "      <td>-0.001960</td>\n",
              "      <td>1.000000</td>\n",
              "    </tr>\n",
              "  </tbody>\n",
              "</table>\n",
              "</div>"
            ],
            "text/plain": [
              "                                   Age  ...  StudentDebtOwe\n",
              "Age                           1.000000  ...        0.118239\n",
              "AttendedBootcamp              0.053278  ...       -0.011262\n",
              "ChildrenNumber                0.243178  ...        0.033822\n",
              "ExpectedEarning               0.108358  ...        0.142072\n",
              "FinciallySupporting          -0.100036  ...       -0.004706\n",
              "HasChildren                   0.454778  ...        0.049597\n",
              "HasDebt                       0.283037  ...             NaN\n",
              "HasFincialDependents          0.372064  ...        0.016528\n",
              "HasHighSpdInternet            0.171188  ...        0.059589\n",
              "HasHomeMortgage               0.371651  ...        0.038767\n",
              "HasServedInMilitary           0.195805  ...       -0.026077\n",
              "HasStudentDebt               -0.237161  ...             NaN\n",
              "HomeMortgageOwe               0.044391  ...        0.491645\n",
              "HoursLearning                -0.024694  ...       -0.014474\n",
              "Income                        0.258223  ...        0.083548\n",
              "IsEthnicMinority             -0.007810  ...        0.065612\n",
              "IsReceiveDiabilitiesBenefits  0.051773  ...        0.009614\n",
              "IsSoftwareDev                 0.008266  ...       -0.025789\n",
              "IsUnderEmployed               0.027578  ...        0.053089\n",
              "JobRelocateYesNo             -0.202084  ...       -0.020078\n",
              "MoneyForLearning              0.097857  ...        0.048086\n",
              "MonthsProgramming             0.221143  ...       -0.001960\n",
              "StudentDebtOwe                0.118239  ...        1.000000\n",
              "\n",
              "[23 rows x 23 columns]"
            ]
          },
          "metadata": {
            "tags": []
          },
          "execution_count": 46
        }
      ]
    },
    {
      "cell_type": "code",
      "metadata": {
        "colab": {
          "base_uri": "https://localhost:8080/",
          "height": 397
        },
        "id": "95zkj7I25HuP",
        "outputId": "d3a3c81e-60b5-4b40-d7b9-6a4834f92429"
      },
      "source": [
        "sns.heatmap(correl, square=True, cmap='coolwarm', annot = True, vmin=-1, vmax=1, center= 0)\r\n",
        "pass"
      ],
      "execution_count": 47,
      "outputs": [
        {
          "output_type": "display_data",
          "data": {
            "image/png": "[encoded data removed]",
            "text/plain": [
              "<Figure size 432x288 with 2 Axes>"
            ]
          },
          "metadata": {
            "tags": [],
            "needs_background": "light"
          }
        }
      ]
    },
    {
      "cell_type": "code",
      "metadata": {
        "colab": {
          "base_uri": "https://localhost:8080/"
        },
        "id": "GfPkmv2z54BW",
        "outputId": "71848a0b-190d-4475-f40e-fdfbaca603ae"
      },
      "source": [
        "correl.where(np.triu(correl > 0.2, k=1) | np.triu(correl < -0.2, k=1)).stack().sort_values(ascending=False)"
      ],
      "execution_count": 48,
      "outputs": [
        {
          "output_type": "execute_result",
          "data": {
            "text/plain": [
              "HomeMortgageOwe       StudentDebtOwe          0.491645\n",
              "Age                   HasChildren             0.454778\n",
              "AttendedBootcamp      MoneyForLearning        0.385406\n",
              "ExpectedEarning       Income                  0.381811\n",
              "Age                   HasFincialDependents    0.372064\n",
              "                      HasHomeMortgage         0.371651\n",
              "IsSoftwareDev         MonthsProgramming       0.367453\n",
              "ExpectedEarning       HomeMortgageOwe         0.367153\n",
              "HasFincialDependents  HasHomeMortgage         0.328088\n",
              "HomeMortgageOwe       Income                  0.315892\n",
              "Age                   HasDebt                 0.283037\n",
              "Income                MonthsProgramming       0.281643\n",
              "HasHomeMortgage       Income                  0.268690\n",
              "Age                   Income                  0.258223\n",
              "                      ChildrenNumber          0.243178\n",
              "HasChildren           HasHomeMortgage         0.222912\n",
              "                      HasDebt                 0.222819\n",
              "Age                   MonthsProgramming       0.221143\n",
              "HasDebt               HasFincialDependents    0.220217\n",
              "Age                   JobRelocateYesNo       -0.202084\n",
              "Income                IsUnderEmployed        -0.203223\n",
              "Age                   HasStudentDebt         -0.237161\n",
              "FinciallySupporting   HasChildren            -0.258708\n",
              "HasHomeMortgage       JobRelocateYesNo       -0.262286\n",
              "                      HasStudentDebt         -0.268329\n",
              "IsSoftwareDev         IsUnderEmployed        -0.286287\n",
              "dtype: float64"
            ]
          },
          "metadata": {
            "tags": []
          },
          "execution_count": 48
        }
      ]
    },
    {
      "cell_type": "markdown",
      "metadata": {
        "id": "Vyy9rlK97VOP"
      },
      "source": [
        "Корреляция наблюдается у 26-х пар признаков:\r\n",
        "\r\n"
      ]
    },
    {
      "cell_type": "markdown",
      "metadata": {
        "id": "L9X-SP999FWB"
      },
      "source": [
        "Проанализируем номинальные признаки"
      ]
    },
    {
      "cell_type": "code",
      "metadata": {
        "colab": {
          "base_uri": "https://localhost:8080/"
        },
        "id": "kzHdQ_pS9HxA",
        "outputId": "1e9ad162-4011-4a6d-af58-e6473841c86b"
      },
      "source": [
        "clear_dataset['CityPopulation'].value_counts(dropna=False)"
      ],
      "execution_count": 53,
      "outputs": [
        {
          "output_type": "execute_result",
          "data": {
            "text/plain": [
              "more than 1 million              5519\n",
              "between 100,000 and 1 million    4882\n",
              "less than 100,000                3125\n",
              "NaN                              1978\n",
              "Name: CityPopulation, dtype: int64"
            ]
          },
          "metadata": {
            "tags": []
          },
          "execution_count": 53
        }
      ]
    },
    {
      "cell_type": "code",
      "metadata": {
        "colab": {
          "base_uri": "https://localhost:8080/"
        },
        "id": "qTcUa1Ur-aqJ",
        "outputId": "801963b2-2526-443f-afb5-1e05dece0acc"
      },
      "source": [
        "clear_dataset['Age range'].value_counts(dropna=False)"
      ],
      "execution_count": 52,
      "outputs": [
        {
          "output_type": "execute_result",
          "data": {
            "text/plain": [
              "20-29    6949\n",
              "30-39    3632\n",
              "NaN      1996\n",
              "40-49    1200\n",
              "10-19    1199\n",
              "50-59     428\n",
              "60-69      85\n",
              "70-79      13\n",
              "80-89       2\n",
              "Name: Age range, dtype: int64"
            ]
          },
          "metadata": {
            "tags": []
          },
          "execution_count": 52
        }
      ]
    },
    {
      "cell_type": "code",
      "metadata": {
        "colab": {
          "base_uri": "https://localhost:8080/"
        },
        "id": "TKfWXdGV_bbo",
        "outputId": "1cf9f507-278e-4a3f-aee1-d8f95e594285"
      },
      "source": [
        "clear_dataset['CountryCitizen'].value_counts(dropna=False)"
      ],
      "execution_count": 54,
      "outputs": [
        {
          "output_type": "execute_result",
          "data": {
            "text/plain": [
              "United States of America    5933\n",
              "NaN                         1955\n",
              "India                       1139\n",
              "United Kingdom               537\n",
              "Cada                         487\n",
              "                            ... \n",
              "Martinique                     1\n",
              "Cary Islands                   1\n",
              "Malawi                         1\n",
              "Greda                          1\n",
              "Republic of Montenegro         1\n",
              "Name: CountryCitizen, Length: 167, dtype: int64"
            ]
          },
          "metadata": {
            "tags": []
          },
          "execution_count": 54
        }
      ]
    },
    {
      "cell_type": "code",
      "metadata": {
        "colab": {
          "base_uri": "https://localhost:8080/"
        },
        "id": "MAVAg0O4_bQV",
        "outputId": "9be73ca6-e7dc-4dee-eea0-b399363c6b2c"
      },
      "source": [
        "clear_dataset['CountryLive'].value_counts(dropna=False)"
      ],
      "execution_count": 55,
      "outputs": [
        {
          "output_type": "execute_result",
          "data": {
            "text/plain": [
              "United States of America    6218\n",
              "NaN                         2000\n",
              "India                        968\n",
              "United Kingdom               612\n",
              "Cada                         535\n",
              "                            ... \n",
              "Reunion                        1\n",
              "Bermuda                        1\n",
              "Martinique                     1\n",
              "Mozambique                     1\n",
              "Haiti                          1\n",
              "Name: CountryLive, Length: 157, dtype: int64"
            ]
          },
          "metadata": {
            "tags": []
          },
          "execution_count": 55
        }
      ]
    },
    {
      "cell_type": "code",
      "metadata": {
        "colab": {
          "base_uri": "https://localhost:8080/"
        },
        "id": "AgvO3Aay_q_g",
        "outputId": "2452e5da-364c-4d52-9f04-88b008fbba8a"
      },
      "source": [
        "clear_dataset['EmploymentField'].value_counts(dropna=False)"
      ],
      "execution_count": 56,
      "outputs": [
        {
          "output_type": "execute_result",
          "data": {
            "text/plain": [
              "NaN                                      7917\n",
              "software development and IT              4331\n",
              "education                                 609\n",
              "arts, entertainment, sports, or media     415\n",
              "office and administrative support         413\n",
              "sales                                     335\n",
              "food and beverage                         279\n",
              "fince                                     274\n",
              "health care                               264\n",
              "architecture or physical engineering      150\n",
              "transportation                            149\n",
              "software development                      134\n",
              "construction and extraction               118\n",
              "legal                                      68\n",
              "law enforcement and fire and rescue        29\n",
              "farming, fishing, and forestry             19\n",
              "Name: EmploymentField, dtype: int64"
            ]
          },
          "metadata": {
            "tags": []
          },
          "execution_count": 56
        }
      ]
    },
    {
      "cell_type": "code",
      "metadata": {
        "colab": {
          "base_uri": "https://localhost:8080/"
        },
        "id": "alMOjU8L_q7B",
        "outputId": "24d5ede1-1e70-4e45-9420-b5644c50218a"
      },
      "source": [
        "clear_dataset['EmploymentFieldOther'].value_counts(dropna=False)"
      ],
      "execution_count": 57,
      "outputs": [
        {
          "output_type": "execute_result",
          "data": {
            "text/plain": [
              "NaN                   14449\n",
              "Marketing                24\n",
              "Retail                   21\n",
              "Manufacturing            17\n",
              "marketing                16\n",
              "                      ...  \n",
              "Production                1\n",
              "Web dev and design        1\n",
              "Translations              1\n",
              "Oil & Gas                 1\n",
              "Field service             1\n",
              "Name: EmploymentFieldOther, Length: 709, dtype: int64"
            ]
          },
          "metadata": {
            "tags": []
          },
          "execution_count": 57
        }
      ]
    },
    {
      "cell_type": "code",
      "metadata": {
        "colab": {
          "base_uri": "https://localhost:8080/"
        },
        "id": "Xv87BGUI_q4Y",
        "outputId": "6842208f-ab2a-4c0e-e7ce-df109e037d83"
      },
      "source": [
        "clear_dataset['EmploymentStatus'].value_counts(dropna=False)"
      ],
      "execution_count": 58,
      "outputs": [
        {
          "output_type": "execute_result",
          "data": {
            "text/plain": [
              "Employed for wages                      7188\n",
              "NaN                                     2677\n",
              "Not working but looking for work        2607\n",
              "Self-employed freelancer                1090\n",
              "Not working and not looking for work     688\n",
              "Self-employed business owner             494\n",
              "Doing an unpaid internship               255\n",
              "A stay-at-home parent or homemaker       220\n",
              "Uble to work                             187\n",
              "Military                                  60\n",
              "Retired                                   38\n",
              "Name: EmploymentStatus, dtype: int64"
            ]
          },
          "metadata": {
            "tags": []
          },
          "execution_count": 58
        }
      ]
    },
    {
      "cell_type": "code",
      "metadata": {
        "colab": {
          "base_uri": "https://localhost:8080/"
        },
        "id": "evbsSOuq_q1I",
        "outputId": "507d1fa0-79dd-47a3-f5c0-c13ed78965b4"
      },
      "source": [
        "clear_dataset['EmploymentStatusOther'].value_counts(dropna=False)"
      ],
      "execution_count": 59,
      "outputs": [
        {
          "output_type": "execute_result",
          "data": {
            "text/plain": [
              "NaN                                                     14842\n",
              "Student                                                   218\n",
              "student                                                    79\n",
              "Studying                                                   16\n",
              "Doing a paid internship                                     8\n",
              "                                                        ...  \n",
              "Consultant and Business Owner                               1\n",
              "Employed full-time, studying at university part-time        1\n",
              "Currently in my last semester of Civil Engineering          1\n",
              "grad school                                                 1\n",
              "Bachelors student                                           1\n",
              "Name: EmploymentStatusOther, Length: 283, dtype: int64"
            ]
          },
          "metadata": {
            "tags": []
          },
          "execution_count": 59
        }
      ]
    },
    {
      "cell_type": "code",
      "metadata": {
        "colab": {
          "base_uri": "https://localhost:8080/"
        },
        "id": "pwaOYzmX_qq_",
        "outputId": "bbb6fe7a-2503-4125-87a4-eeca0979ca27"
      },
      "source": [
        "clear_dataset['Gender'].value_counts(dropna=False)"
      ],
      "execution_count": 60,
      "outputs": [
        {
          "output_type": "execute_result",
          "data": {
            "text/plain": [
              "male           10676\n",
              "female          2828\n",
              "NaN             1862\n",
              "genderqueer       65\n",
              "agender           38\n",
              "trans             35\n",
              "Name: Gender, dtype: int64"
            ]
          },
          "metadata": {
            "tags": []
          },
          "execution_count": 60
        }
      ]
    },
    {
      "cell_type": "code",
      "metadata": {
        "colab": {
          "base_uri": "https://localhost:8080/"
        },
        "id": "QIzDds4kAH7p",
        "outputId": "8cbfd6e9-0812-4d7d-e999-d96d69b6aa7b"
      },
      "source": [
        "clear_dataset['HasFincialDependents'].value_counts(dropna=False)"
      ],
      "execution_count": 62,
      "outputs": [
        {
          "output_type": "execute_result",
          "data": {
            "text/plain": [
              "0.0    9516\n",
              "1.0    4018\n",
              "NaN    1970\n",
              "Name: HasFincialDependents, dtype: int64"
            ]
          },
          "metadata": {
            "tags": []
          },
          "execution_count": 62
        }
      ]
    },
    {
      "cell_type": "code",
      "metadata": {
        "colab": {
          "base_uri": "https://localhost:8080/"
        },
        "id": "kXAWezIlAH4P",
        "outputId": "4b423f7b-af6f-4655-9276-d860f6c89411"
      },
      "source": [
        "clear_dataset['HasHighSpdInternet'].value_counts(dropna=False)"
      ],
      "execution_count": 63,
      "outputs": [
        {
          "output_type": "execute_result",
          "data": {
            "text/plain": [
              "1.0    11902\n",
              "NaN     1981\n",
              "0.0     1621\n",
              "Name: HasHighSpdInternet, dtype: int64"
            ]
          },
          "metadata": {
            "tags": []
          },
          "execution_count": 63
        }
      ]
    },
    {
      "cell_type": "code",
      "metadata": {
        "colab": {
          "base_uri": "https://localhost:8080/"
        },
        "id": "ZJJf1t0XAHxp",
        "outputId": "1113d617-16da-4a31-a073-1750aba67376"
      },
      "source": [
        "clear_dataset['AttendedBootcamp'].value_counts(dropna=False)"
      ],
      "execution_count": 64,
      "outputs": [
        {
          "output_type": "execute_result",
          "data": {
            "text/plain": [
              "0.0    14325\n",
              "1.0      941\n",
              "NaN      238\n",
              "Name: AttendedBootcamp, dtype: int64"
            ]
          },
          "metadata": {
            "tags": []
          },
          "execution_count": 64
        }
      ]
    },
    {
      "cell_type": "code",
      "metadata": {
        "colab": {
          "base_uri": "https://localhost:8080/"
        },
        "id": "3Magto9bAHuO",
        "outputId": "706e117d-f134-4836-c0a5-68ec7375651f"
      },
      "source": [
        "clear_dataset['FinciallySupporting'].value_counts(dropna=False)"
      ],
      "execution_count": 65,
      "outputs": [
        {
          "output_type": "execute_result",
          "data": {
            "text/plain": [
              "NaN    11521\n",
              "0.0     3203\n",
              "1.0      780\n",
              "Name: FinciallySupporting, dtype: int64"
            ]
          },
          "metadata": {
            "tags": []
          },
          "execution_count": 65
        }
      ]
    },
    {
      "cell_type": "code",
      "metadata": {
        "colab": {
          "base_uri": "https://localhost:8080/"
        },
        "id": "U_odixnWCn02",
        "outputId": "ce5fda72-9e47-475d-c18e-1893b58491a2"
      },
      "source": [
        "clear_dataset['HasDebt'].value_counts(dropna=False)"
      ],
      "execution_count": 66,
      "outputs": [
        {
          "output_type": "execute_result",
          "data": {
            "text/plain": [
              "0.0    7115\n",
              "1.0    6390\n",
              "NaN    1999\n",
              "Name: HasDebt, dtype: int64"
            ]
          },
          "metadata": {
            "tags": []
          },
          "execution_count": 66
        }
      ]
    },
    {
      "cell_type": "code",
      "metadata": {
        "colab": {
          "base_uri": "https://localhost:8080/"
        },
        "id": "OnBaHGEaCnzP",
        "outputId": "9167e857-7691-46b5-b5e9-44697b958d92"
      },
      "source": [
        "clear_dataset['HasHomeMortgage'].value_counts(dropna=False)"
      ],
      "execution_count": 67,
      "outputs": [
        {
          "output_type": "execute_result",
          "data": {
            "text/plain": [
              "NaN    9149\n",
              "0.0    4574\n",
              "1.0    1781\n",
              "Name: HasHomeMortgage, dtype: int64"
            ]
          },
          "metadata": {
            "tags": []
          },
          "execution_count": 67
        }
      ]
    },
    {
      "cell_type": "code",
      "metadata": {
        "colab": {
          "base_uri": "https://localhost:8080/"
        },
        "id": "7dhOlqQDCnwM",
        "outputId": "32114dc4-5d88-4992-b2e7-c0372a39abc2"
      },
      "source": [
        "clear_dataset['HasServedInMilitary'].value_counts(dropna=False)"
      ],
      "execution_count": 69,
      "outputs": [
        {
          "output_type": "execute_result",
          "data": {
            "text/plain": [
              "0.0    12416\n",
              "NaN     2057\n",
              "1.0     1031\n",
              "Name: HasServedInMilitary, dtype: int64"
            ]
          },
          "metadata": {
            "tags": []
          },
          "execution_count": 69
        }
      ]
    },
    {
      "cell_type": "code",
      "metadata": {
        "colab": {
          "base_uri": "https://localhost:8080/"
        },
        "id": "Oq2wth7ZCnss",
        "outputId": "a01a098e-cb02-4f94-ee35-6a98e67d95aa"
      },
      "source": [
        "clear_dataset['HasStudentDebt'].value_counts(dropna=False)"
      ],
      "execution_count": 70,
      "outputs": [
        {
          "output_type": "execute_result",
          "data": {
            "text/plain": [
              "NaN    9149\n",
              "1.0    3749\n",
              "0.0    2606\n",
              "Name: HasStudentDebt, dtype: int64"
            ]
          },
          "metadata": {
            "tags": []
          },
          "execution_count": 70
        }
      ]
    },
    {
      "cell_type": "code",
      "metadata": {
        "colab": {
          "base_uri": "https://localhost:8080/"
        },
        "id": "ywVRxpatCnpV",
        "outputId": "68f507d7-dc43-4774-d34b-43e7aa73c361"
      },
      "source": [
        "clear_dataset['IsEthnicMinority'].value_counts(dropna=False)"
      ],
      "execution_count": 71,
      "outputs": [
        {
          "output_type": "execute_result",
          "data": {
            "text/plain": [
              "0.0    10310\n",
              "1.0     3230\n",
              "NaN     1964\n",
              "Name: IsEthnicMinority, dtype: int64"
            ]
          },
          "metadata": {
            "tags": []
          },
          "execution_count": 71
        }
      ]
    },
    {
      "cell_type": "code",
      "metadata": {
        "colab": {
          "base_uri": "https://localhost:8080/"
        },
        "id": "gbS7x-7lCnls",
        "outputId": "59ec81ed-9bad-40d4-807e-162ad39b9e18"
      },
      "source": [
        "clear_dataset['IsReceiveDiabilitiesBenefits'].value_counts(dropna=False)"
      ],
      "execution_count": 73,
      "outputs": [
        {
          "output_type": "execute_result",
          "data": {
            "text/plain": [
              "0.0    13118\n",
              "NaN     2077\n",
              "1.0      309\n",
              "Name: IsReceiveDiabilitiesBenefits, dtype: int64"
            ]
          },
          "metadata": {
            "tags": []
          },
          "execution_count": 73
        }
      ]
    },
    {
      "cell_type": "code",
      "metadata": {
        "colab": {
          "base_uri": "https://localhost:8080/"
        },
        "id": "qMnGXwQPCnib",
        "outputId": "67e0ec6c-eee7-4f9d-d0ce-53456eb8c999"
      },
      "source": [
        "clear_dataset['IsSoftwareDev'].value_counts(dropna=False)"
      ],
      "execution_count": 74,
      "outputs": [
        {
          "output_type": "execute_result",
          "data": {
            "text/plain": [
              "0.0    11138\n",
              "1.0     4283\n",
              "NaN       83\n",
              "Name: IsSoftwareDev, dtype: int64"
            ]
          },
          "metadata": {
            "tags": []
          },
          "execution_count": 74
        }
      ]
    },
    {
      "cell_type": "code",
      "metadata": {
        "colab": {
          "base_uri": "https://localhost:8080/"
        },
        "id": "zFVbrvAIDVX7",
        "outputId": "92e422d4-111d-4230-e89e-97a0a137ce5b"
      },
      "source": [
        "clear_dataset['IsUnderEmployed'].value_counts(dropna=False)"
      ],
      "execution_count": 76,
      "outputs": [
        {
          "output_type": "execute_result",
          "data": {
            "text/plain": [
              "NaN    6881\n",
              "0.0    4988\n",
              "1.0    3635\n",
              "Name: IsUnderEmployed, dtype: int64"
            ]
          },
          "metadata": {
            "tags": []
          },
          "execution_count": 76
        }
      ]
    },
    {
      "cell_type": "code",
      "metadata": {
        "colab": {
          "base_uri": "https://localhost:8080/"
        },
        "id": "LYFBDa-FDVV_",
        "outputId": "32cc93e4-45d7-4d7f-a839-eb592ef8effd"
      },
      "source": [
        "clear_dataset['JobApplyWhen'].value_counts(dropna=False)"
      ],
      "execution_count": 77,
      "outputs": [
        {
          "output_type": "execute_result",
          "data": {
            "text/plain": [
              "NaN                             8800\n",
              "Within the next 6 months        2030\n",
              "I haven't decided               1329\n",
              "Within 7 to 12 months           1193\n",
              "I'm already applying            1173\n",
              "more than 12 months from now     979\n",
              "Name: JobApplyWhen, dtype: int64"
            ]
          },
          "metadata": {
            "tags": []
          },
          "execution_count": 77
        }
      ]
    },
    {
      "cell_type": "code",
      "metadata": {
        "colab": {
          "base_uri": "https://localhost:8080/"
        },
        "id": "MfE23vD8DVSY",
        "outputId": "8b5f0bb0-27c0-4f35-ea42-09b18390f462"
      },
      "source": [
        "clear_dataset['JobPref'].value_counts(dropna=False)"
      ],
      "execution_count": 79,
      "outputs": [
        {
          "output_type": "execute_result",
          "data": {
            "text/plain": [
              "NaN                                 4410\n",
              "work for a medium-sized company     3270\n",
              "freelance                           2237\n",
              "start your own business             2205\n",
              "work for a startup                  2017\n",
              "work for a multitiol corporation    1365\n",
              "Name: JobPref, dtype: int64"
            ]
          },
          "metadata": {
            "tags": []
          },
          "execution_count": 79
        }
      ]
    },
    {
      "cell_type": "code",
      "metadata": {
        "colab": {
          "base_uri": "https://localhost:8080/"
        },
        "id": "f19EpiXVDVQe",
        "outputId": "615e0189-400b-493a-9358-2e04e017d7ff"
      },
      "source": [
        "clear_dataset['JobRelocateYesNo'].value_counts(dropna=False)"
      ],
      "execution_count": 80,
      "outputs": [
        {
          "output_type": "execute_result",
          "data": {
            "text/plain": [
              "NaN    10052\n",
              "1.0     4010\n",
              "0.0     1442\n",
              "Name: JobRelocateYesNo, dtype: int64"
            ]
          },
          "metadata": {
            "tags": []
          },
          "execution_count": 80
        }
      ]
    },
    {
      "cell_type": "code",
      "metadata": {
        "colab": {
          "base_uri": "https://localhost:8080/"
        },
        "id": "gSUsftxgDVM1",
        "outputId": "4d2c7586-a162-45dd-928e-46415aac6999"
      },
      "source": [
        "clear_dataset['JobRoleInterest'].value_counts(dropna=False)"
      ],
      "execution_count": 81,
      "outputs": [
        {
          "output_type": "execute_result",
          "data": {
            "text/plain": [
              "NaN                                 9042\n",
              "Full-Stack Web Developer            2554\n",
              "  Front-End Web Developer           1365\n",
              "Back-End Web Developer               700\n",
              "  Data Scientist / Data Engineer     646\n",
              "  Mobile Developer                   409\n",
              "  User Experience Designer           274\n",
              "  DevOps / SysAdmin                  219\n",
              "  Product Mager                      191\n",
              "  Quality Assurance Engineer         104\n",
              "Name: JobRoleInterest, dtype: int64"
            ]
          },
          "metadata": {
            "tags": []
          },
          "execution_count": 81
        }
      ]
    },
    {
      "cell_type": "code",
      "metadata": {
        "colab": {
          "base_uri": "https://localhost:8080/"
        },
        "id": "isyDZB1yDVLD",
        "outputId": "77499247-5ebd-4f18-89f2-717c40be7431"
      },
      "source": [
        "clear_dataset['JobRoleInterestOther'].value_counts(dropna=False)"
      ],
      "execution_count": 82,
      "outputs": [
        {
          "output_type": "execute_result",
          "data": {
            "text/plain": [
              "NaN                            15307\n",
              "Software Engineer                 37\n",
              "Game Developer                    26\n",
              "Undecided                         23\n",
              "Cyber Security                    20\n",
              "                               ...  \n",
              "Systems Architect                  1\n",
              "Business Developer                 1\n",
              "Computer Science Researcher        1\n",
              "Alyst                              1\n",
              "Ux Researcher                      1\n",
              "Name: JobRoleInterestOther, Length: 89, dtype: int64"
            ]
          },
          "metadata": {
            "tags": []
          },
          "execution_count": 82
        }
      ]
    },
    {
      "cell_type": "code",
      "metadata": {
        "colab": {
          "base_uri": "https://localhost:8080/"
        },
        "id": "H-G3vricDVH2",
        "outputId": "d6f37cf1-f7bd-4fde-f947-da20f72ceeba"
      },
      "source": [
        "clear_dataset['JobWherePref'].value_counts(dropna=False)"
      ],
      "execution_count": 83,
      "outputs": [
        {
          "output_type": "execute_result",
          "data": {
            "text/plain": [
              "NaN                                   8808\n",
              "in an office with other developers    3804\n",
              "no preference                         1684\n",
              "from home                             1208\n",
              "Name: JobWherePref, dtype: int64"
            ]
          },
          "metadata": {
            "tags": []
          },
          "execution_count": 83
        }
      ]
    },
    {
      "cell_type": "code",
      "metadata": {
        "colab": {
          "base_uri": "https://localhost:8080/"
        },
        "id": "Uu5yuFCCDVEQ",
        "outputId": "a0dbbc0e-de38-4946-b704-f2df30b9ea0a"
      },
      "source": [
        "clear_dataset['LanguageAtHome'].value_counts(dropna=False)"
      ],
      "execution_count": 84,
      "outputs": [
        {
          "output_type": "execute_result",
          "data": {
            "text/plain": [
              "English       7362\n",
              "NaN           2028\n",
              "Spanish        766\n",
              "Russian        544\n",
              "Hindi          445\n",
              "              ... \n",
              "Hmong            1\n",
              "Turkmen          1\n",
              "Fiji Hindi       1\n",
              "Chechen          1\n",
              "Tswa             1\n",
              "Name: LanguageAtHome, Length: 148, dtype: int64"
            ]
          },
          "metadata": {
            "tags": []
          },
          "execution_count": 84
        }
      ]
    },
    {
      "cell_type": "code",
      "metadata": {
        "colab": {
          "base_uri": "https://localhost:8080/"
        },
        "id": "G_GcAh41Ip19",
        "outputId": "1573aaba-bb95-4f4c-baa2-054cb698ff83"
      },
      "source": [
        "clear_dataset['MaritalStatus'].value_counts(dropna=False)"
      ],
      "execution_count": 85,
      "outputs": [
        {
          "output_type": "execute_result",
          "data": {
            "text/plain": [
              "NaN                                11507\n",
              "married or domestic partnership     2908\n",
              "single, never married                853\n",
              "divorced                             175\n",
              "separated                             49\n",
              "widowed                               12\n",
              "Name: MaritalStatus, dtype: int64"
            ]
          },
          "metadata": {
            "tags": []
          },
          "execution_count": 85
        }
      ]
    },
    {
      "cell_type": "code",
      "metadata": {
        "colab": {
          "base_uri": "https://localhost:8080/"
        },
        "id": "NtCL0WNBIpwk",
        "outputId": "a436d276-3c37-42cb-ddc2-26babe9b7a60"
      },
      "source": [
        "clear_dataset['SchoolDegree'].value_counts(dropna=False)"
      ],
      "execution_count": 86,
      "outputs": [
        {
          "output_type": "execute_result",
          "data": {
            "text/plain": [
              "bachelor's degree                          5623\n",
              "some college credit, no degree             2259\n",
              "NaN                                        1925\n",
              "master's degree (non-professiol)           1443\n",
              "high school diploma or equivalent (GED)    1350\n",
              "some high school                            749\n",
              "professiol degree (MBA, MD, JD, etc.)       692\n",
              "associate's degree                          649\n",
              "trade, technical, or vocatiol training      443\n",
              "no high school (secondary school)           212\n",
              "Ph.D.                                       159\n",
              "Name: SchoolDegree, dtype: int64"
            ]
          },
          "metadata": {
            "tags": []
          },
          "execution_count": 86
        }
      ]
    },
    {
      "cell_type": "code",
      "metadata": {
        "colab": {
          "base_uri": "https://localhost:8080/"
        },
        "id": "tPyD3zWqIpnk",
        "outputId": "26989587-95d1-4406-cc7b-073e863533bb"
      },
      "source": [
        "clear_dataset['SchoolMajor'].value_counts(dropna=False)"
      ],
      "execution_count": 87,
      "outputs": [
        {
          "output_type": "execute_result",
          "data": {
            "text/plain": [
              "NaN                                          7078\n",
              "Computer Science                             1379\n",
              "Information Technology                        407\n",
              "Business Administration                       284\n",
              "Economics                                     252\n",
              "                                             ... \n",
              "Pharmaceutical Sciences                         1\n",
              "Agricultural and Food Products Processing       1\n",
              "Marine Biology and Oceanography                 1\n",
              "Teacher Education for Multiple Levels           1\n",
              "Sheet Metal Technology                          1\n",
              "Name: SchoolMajor, Length: 426, dtype: int64"
            ]
          },
          "metadata": {
            "tags": []
          },
          "execution_count": 87
        }
      ]
    },
    {
      "cell_type": "markdown",
      "metadata": {
        "id": "GbcpVp9iK0Z3"
      },
      "source": [
        "Рассмотрим характеристики студентов, по которым будем оценивать их возможность устроиться на работу"
      ]
    },
    {
      "cell_type": "markdown",
      "metadata": {
        "id": "P_JllO6dJHH0"
      },
      "source": [
        ""
      ]
    },
    {
      "cell_type": "code",
      "metadata": {
        "colab": {
          "base_uri": "https://localhost:8080/",
          "height": 278
        },
        "id": "9yDMXTy7LHPP",
        "outputId": "ed6bd2e9-c00f-4bd2-df3e-92b8bd09a71a"
      },
      "source": [
        "sns.countplot(x='EmploymentStatus', order=clear_dataset['EmploymentStatus'].value_counts().index, hue='Age range', data=clear_dataset)\r\n",
        "pass"
      ],
      "execution_count": 93,
      "outputs": [
        {
          "output_type": "display_data",
          "data": {
            "image/png": "[encoded data removed]",
            "text/plain": [
              "<Figure size 432x288 with 1 Axes>"
            ]
          },
          "metadata": {
            "tags": [],
            "needs_background": "light"
          }
        }
      ]
    },
    {
      "cell_type": "code",
      "metadata": {
        "colab": {
          "base_uri": "https://localhost:8080/",
          "height": 278
        },
        "id": "tZtjpYwqMcsF",
        "outputId": "0a941d2e-ed5f-4975-a5c3-aeb38262760b"
      },
      "source": [
        "sns.countplot(x='EmploymentStatus', order=clear_dataset['EmploymentStatus'].value_counts().index, hue='Gender', data=clear_dataset)\r\n",
        "pass"
      ],
      "execution_count": 94,
      "outputs": [
        {
          "output_type": "display_data",
          "data": {
            "image/png": "[encoded data removed]",
            "text/plain": [
              "<Figure size 432x288 with 1 Axes>"
            ]
          },
          "metadata": {
            "tags": [],
            "needs_background": "light"
          }
        }
      ]
    }
  ]
}